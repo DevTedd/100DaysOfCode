{
 "cells": [
  {
   "cell_type": "code",
   "execution_count": 1,
   "metadata": {},
   "outputs": [],
   "source": [
    "from turtle import Screen, Turtle\n",
    "\n",
    "#Creating a screen instance\n",
    "screen = Screen()\n",
    "screen.setup(width=600, height= 600)\n",
    "screen.bgcolor('black')\n",
    "screen.title('My Snake Game')\n",
    "\n",
    "\n",
    "turtle = Turtle()\n",
    "turtle.shape('square')\n",
    "turtle.color('white')\n",
    "\n",
    "turtle1 = Turtle()\n",
    "turtle1.shape('square')\n",
    "turtle1.color('white')\n",
    "turtle1.setpos(-20,00)\n",
    "\n",
    "turtle2 = Turtle()\n",
    "turtle2.shape('square')\n",
    "turtle2.color('white')\n",
    "turtle2.setpos(-40,00)\n",
    "\n",
    "\n",
    "\n",
    "\n",
    "screen.exitonclick()"
   ]
  },
  {
   "cell_type": "code",
   "execution_count": 1,
   "metadata": {},
   "outputs": [
    {
     "ename": "IndexError",
     "evalue": "list index out of range",
     "output_type": "error",
     "traceback": [
      "\u001b[1;31m---------------------------------------------------------------------------\u001b[0m",
      "\u001b[1;31mIndexError\u001b[0m                                Traceback (most recent call last)",
      "Cell \u001b[1;32mIn[1], line 34\u001b[0m\n\u001b[0;32m     32\u001b[0m     new_y \u001b[38;5;241m=\u001b[39m segments[seg_num \u001b[38;5;241m-\u001b[39m \u001b[38;5;241m1\u001b[39m]\u001b[38;5;241m.\u001b[39mycor()\n\u001b[0;32m     33\u001b[0m     segments[seg_num]\u001b[38;5;241m.\u001b[39mgoto(new_x,new_y)\n\u001b[1;32m---> 34\u001b[0m \u001b[43msegments\u001b[49m\u001b[43m[\u001b[49m\u001b[38;5;241;43m0\u001b[39;49m\u001b[43m]\u001b[49m\u001b[38;5;241m.\u001b[39mforward(\u001b[38;5;241m30\u001b[39m)    \n",
      "\u001b[1;31mIndexError\u001b[0m: list index out of range"
     ]
    },
    {
     "ename": "",
     "evalue": "",
     "output_type": "error",
     "traceback": [
      "\u001b[1;31mThe Kernel crashed while executing code in the current cell or a previous cell. \n",
      "\u001b[1;31mPlease review the code in the cell(s) to identify a possible cause of the failure. \n",
      "\u001b[1;31mClick <a href='https://aka.ms/vscodeJupyterKernelCrash'>here</a> for more info. \n",
      "\u001b[1;31mView Jupyter <a href='command:jupyter.viewOutput'>log</a> for further details."
     ]
    }
   ],
   "source": [
    "from turtle import Screen,Turtle\n",
    "import time\n",
    "\n",
    "\n",
    "screen = Screen()\n",
    "screen.setup(width=600, height=600)\n",
    "screen.bgcolor(\"black\")\n",
    "screen.title('My Big Snake Game')\n",
    "screen.tracer(0)\n",
    "\n",
    "starting_pos = [(0,0),(-20,0),(-40,0)]\n",
    "\n",
    "segments = []\n",
    "\n",
    "for pos in starting_pos:\n",
    "    new_segment = Turtle('square')\n",
    "    new_segment.color('white')\n",
    "    new_segment.penup()\n",
    "    new_segment.goto(pos)\n",
    "    \n",
    "   \n",
    "    \n",
    "game_is_on = True\n",
    "while game_is_on:\n",
    "    screen.update()\n",
    "    time.sleep(0.1) \n",
    "    # for seg in segments:\n",
    "    #     seg.forward(20)\\\n",
    "        \n",
    "    for seg_num in range(len(segments) - 1, 0,-1):\n",
    "        new_x = segments[seg_num - 1].xcor()\n",
    "        new_y = segments[seg_num - 1].ycor()\n",
    "        segments[seg_num].goto(new_x,new_y)\n",
    "    segments[0].forward(30)    \n",
    "        "
   ]
  },
  {
   "cell_type": "markdown",
   "metadata": {},
   "source": [
    "# Class Inheritance "
   ]
  },
  {
   "cell_type": "code",
   "execution_count": 1,
   "metadata": {},
   "outputs": [
    {
     "ename": "SyntaxError",
     "evalue": "invalid syntax (2388304276.py, line 3)",
     "output_type": "error",
     "traceback": [
      "\u001b[1;36m  Cell \u001b[1;32mIn[1], line 3\u001b[1;36m\u001b[0m\n\u001b[1;33m    You add the class to the initiating section of the new class\u001b[0m\n\u001b[1;37m        ^\u001b[0m\n\u001b[1;31mSyntaxError\u001b[0m\u001b[1;31m:\u001b[0m invalid syntax\n"
     ]
    }
   ],
   "source": [
    "# This saves you from duplicating so much work\n",
    "\n",
    "# You add the class to the initiating section of the new class\n",
    "# ALSO ADD A SUPER() TO THE INHERITING CLASS "
   ]
  },
  {
   "cell_type": "code",
   "execution_count": 4,
   "metadata": {},
   "outputs": [
    {
     "name": "stdout",
     "output_type": "stream",
     "text": [
      "moving in water!\n",
      "Inhale, exhale\n",
      "doing this underwater\n"
     ]
    }
   ],
   "source": [
    "class Animal:\n",
    "    def __init__(self):\n",
    "        self.num_eyes = 2\n",
    "    \n",
    "    def breath(self):\n",
    "        print(\"Inhale, exhale\")\n",
    "        \n",
    "    \n",
    "class Fish(Animal):\n",
    "    def __init__(self):\n",
    "        super().__init__()\n",
    "    \n",
    "    def breath(self): # Modifiying the breath function to fit what a fish would do\n",
    "        super().breath()\n",
    "        print(\"doing this underwater\")\n",
    "        print(\"This allows us to build on exsisting funtions and add additional features\")\n",
    "        \n",
    "    \n",
    "    def swim(self):\n",
    "        print('moving in water!')\n",
    "nemo = Fish()\n",
    "nemo.swim()\n",
    "nemo.breath() # Now the fish has similar properties as an animal"
   ]
  },
  {
   "cell_type": "markdown",
   "metadata": {},
   "source": [
    "# Now we are creating a scoreboard "
   ]
  }
 ],
 "metadata": {
  "kernelspec": {
   "display_name": "Python 3",
   "language": "python",
   "name": "python3"
  },
  "language_info": {
   "codemirror_mode": {
    "name": "ipython",
    "version": 3
   },
   "file_extension": ".py",
   "mimetype": "text/x-python",
   "name": "python",
   "nbconvert_exporter": "python",
   "pygments_lexer": "ipython3",
   "version": "3.11.4"
  }
 },
 "nbformat": 4,
 "nbformat_minor": 2
}
