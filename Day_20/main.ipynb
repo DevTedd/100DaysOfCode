{
 "cells": [
  {
   "cell_type": "code",
   "execution_count": 1,
   "metadata": {},
   "outputs": [],
   "source": [
    "from turtle import Screen, Turtle\n",
    "\n",
    "#Creating a screen instance\n",
    "screen = Screen()\n",
    "screen.setup(width=600, height= 600)\n",
    "screen.bgcolor('black')\n",
    "screen.title('My Snake Game')\n",
    "\n",
    "\n",
    "turtle = Turtle()\n",
    "turtle.shape('square')\n",
    "turtle.color('white')\n",
    "\n",
    "turtle1 = Turtle()\n",
    "turtle1.shape('square')\n",
    "turtle1.color('white')\n",
    "turtle1.setpos(-20,00)\n",
    "\n",
    "turtle2 = Turtle()\n",
    "turtle2.shape('square')\n",
    "turtle2.color('white')\n",
    "turtle2.setpos(-40,00)\n",
    "\n",
    "\n",
    "\n",
    "\n",
    "screen.exitonclick()"
   ]
  },
  {
   "cell_type": "code",
   "execution_count": 1,
   "metadata": {},
   "outputs": [
    {
     "ename": "TypeError",
     "evalue": "can't multiply sequence by non-int of type 'method'",
     "output_type": "error",
     "traceback": [
      "\u001b[1;31m---------------------------------------------------------------------------\u001b[0m",
      "\u001b[1;31mTypeError\u001b[0m                                 Traceback (most recent call last)",
      "Cell \u001b[1;32mIn[1], line 18\u001b[0m\n\u001b[0;32m     16\u001b[0m     new_segment \u001b[38;5;241m=\u001b[39m Turtle(\u001b[38;5;124m'\u001b[39m\u001b[38;5;124msquare\u001b[39m\u001b[38;5;124m'\u001b[39m)\n\u001b[0;32m     17\u001b[0m     new_segment\u001b[38;5;241m.\u001b[39mcolor(\u001b[38;5;124m'\u001b[39m\u001b[38;5;124mwhite\u001b[39m\u001b[38;5;124m'\u001b[39m)\n\u001b[1;32m---> 18\u001b[0m     \u001b[43mnew_segment\u001b[49m\u001b[38;5;241;43m.\u001b[39;49m\u001b[43mpenup\u001b[49m\u001b[38;5;241;43m*\u001b[39;49m\u001b[43m(\u001b[49m\u001b[43m)\u001b[49m\n\u001b[0;32m     19\u001b[0m     new_segment\u001b[38;5;241m.\u001b[39mgoto(pos)\n\u001b[0;32m     23\u001b[0m game_is_on \u001b[38;5;241m=\u001b[39m \u001b[38;5;28;01mTrue\u001b[39;00m\n",
      "\u001b[1;31mTypeError\u001b[0m: can't multiply sequence by non-int of type 'method'"
     ]
    }
   ],
   "source": [
    "from turtle import Screen,Turtle\n",
    "import time\n",
    "\n",
    "\n",
    "screen = Screen()\n",
    "screen.setup(width=600, height=600)\n",
    "screen.bgcolor(\"black\")\n",
    "screen.title('My Big Snake Game')\n",
    "screen.tracer(0)\n",
    "\n",
    "starting_pos = [(0,0),(-20,0),(-40,0)]\n",
    "\n",
    "segments = []\n",
    "\n",
    "for pos in starting_pos:\n",
    "    new_segment = Turtle('square')\n",
    "    new_segment.color('white')\n",
    "    new_segment.penup*()\n",
    "    new_segment.goto(pos)\n",
    "    \n",
    "   \n",
    "    \n",
    "game_is_on = True\n",
    "while game_is_on:\n",
    "    screen.update()\n",
    "    time.sleep(0.1) \n",
    "    # for seg in segments:\n",
    "    #     seg.forward(20)\\\n",
    "        \n",
    "    for seg_num in range(len(segments) - 1, 0,-1):\n",
    "        new_x = segments[seg_num - 1].xcor()\n",
    "        new_y = segments[seg_num - 1].ycor()\n",
    "        segments[seg_num].goto(new_x,new_y)\n",
    "        \n",
    "        "
   ]
  }
 ],
 "metadata": {
  "kernelspec": {
   "display_name": "Python 3",
   "language": "python",
   "name": "python3"
  },
  "language_info": {
   "codemirror_mode": {
    "name": "ipython",
    "version": 3
   },
   "file_extension": ".py",
   "mimetype": "text/x-python",
   "name": "python",
   "nbconvert_exporter": "python",
   "pygments_lexer": "ipython3",
   "version": "3.11.4"
  }
 },
 "nbformat": 4,
 "nbformat_minor": 2
}
