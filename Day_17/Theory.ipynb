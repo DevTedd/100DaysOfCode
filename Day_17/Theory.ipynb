{
 "cells": [
  {
   "cell_type": "markdown",
   "metadata": {},
   "source": [
    "# Theory :  CREATING OUR OWN CLASSES IN PYTHON"
   ]
  },
  {
   "cell_type": "code",
   "execution_count": 1,
   "metadata": {},
   "outputs": [],
   "source": [
    "#import statements \n",
    "import pandas as pd\n",
    "import numpy as np \n",
    "\n",
    "\n"
   ]
  },
  {
   "cell_type": "code",
   "execution_count": 1,
   "metadata": {},
   "outputs": [],
   "source": [
    "#Classes comprise of 2 thing\n",
    "#The class keyword and name of the class\n",
    "# The first letter of everyword should be capitalized\n",
    "# Everything inside needs to be indented\n",
    "\n",
    "#Pass allows you to leave functions empty\n",
    "\n",
    "class User:\n",
    "    pass\n",
    "\n",
    "user_1 = User()"
   ]
  },
  {
   "cell_type": "code",
   "execution_count": 3,
   "metadata": {},
   "outputs": [
    {
     "name": "stdout",
     "output_type": "stream",
     "text": [
      "001\n",
      "Beyonce\n"
     ]
    }
   ],
   "source": [
    "# Creating an attribute for our objext\n",
    "user_1.id = '001'\n",
    "user_1.username = \"Beyonce\"\n",
    "\n",
    "print(user_1.id)\n",
    "print(user_1.username)\n"
   ]
  },
  {
   "cell_type": "code",
   "execution_count": 6,
   "metadata": {},
   "outputs": [
    {
     "name": "stdout",
     "output_type": "stream",
     "text": [
      "A new user is being created...\n",
      "<__main__.User object at 0x00000165B9677650>\n",
      "002\n",
      "Jose\n"
     ]
    }
   ],
   "source": [
    "#The faster way to do this is: using an initalize function\n",
    "\n",
    "class User:\n",
    "    def __init__(self, id, username):\n",
    "        self.id = id #  This means that all User objects must have an id attribute\n",
    "        self.username = username\n",
    "        print('A new user is being created...')\n",
    "        \n",
    "# This is a constructor, its possible to set some or all of the attributes\n",
    "# for specific objects in adnavace, everytime a new user is created \n",
    "# this would run\n",
    "        \n",
    "user1 = User('002', 'Jose')\n",
    "\n",
    "print(user1.id)\n",
    "print(user1.username)\n",
    "        \n"
   ]
  },
  {
   "cell_type": "code",
   "execution_count": 8,
   "metadata": {},
   "outputs": [
    {
     "name": "stdout",
     "output_type": "stream",
     "text": [
      "A new user is being created...\n",
      "1\n"
     ]
    }
   ],
   "source": [
    "#What if some attributes are always the same for all instances of a class?\n",
    "class User:\n",
    "    def __init__(self, id, username):\n",
    "        self.id = id \n",
    "        self.username = username\n",
    "        self.followers = 1#Change this and see what happens\n",
    "        print('A new user is being created...')\n",
    "        \n",
    "user_1 = User('001', 'angela')\n",
    "print(user_1.followers)"
   ]
  },
  {
   "cell_type": "markdown",
   "metadata": {},
   "source": [
    "# Now onto Methods!"
   ]
  },
  {
   "cell_type": "code",
   "execution_count": null,
   "metadata": {},
   "outputs": [],
   "source": [
    "class Car:\n",
    "    def enter_race_mode():\n",
    "        print(\"Entering race mode\")\n",
    "        seats = 2"
   ]
  },
  {
   "cell_type": "code",
   "execution_count": 14,
   "metadata": {},
   "outputs": [
    {
     "name": "stdout",
     "output_type": "stream",
     "text": [
      "1\n",
      "0\n"
     ]
    }
   ],
   "source": [
    "class User:\n",
    "    def __init__(self, id, username):\n",
    "        self.id = id \n",
    "        self.username = username\n",
    "        self.followers = 0#Change this and see what happens\n",
    "        self.following = 0\n",
    "        \n",
    "    def follow(self, user):#These always need a self parameter\n",
    "        user.followers += 1\n",
    "        self.following += 1\n",
    "        \n",
    "user_1 = User('001', 'angela')\n",
    "user_2 = User('002', 'jack')\n",
    "user_1.follow(user_2)\n",
    "print(user_2.followers)\n",
    "print(user_2.following)"
   ]
  },
  {
   "cell_type": "markdown",
   "metadata": {},
   "source": [
    "# Lets start creating the quiz. Check the other files"
   ]
  },
  {
   "cell_type": "code",
   "execution_count": 21,
   "metadata": {},
   "outputs": [],
   "source": [
    "class Question:\n",
    "    def __init__(self, text, answer):\n",
    "        self.text = text\n",
    "        self.answer = answer"
   ]
  },
  {
   "cell_type": "code",
   "execution_count": 2,
   "metadata": {},
   "outputs": [],
   "source": [
    "question_data = [\n",
    "    {\"text\": \"A slug's blood is green.\", \"answer\": \"True\"},\n",
    "    {\"text\": \"The loudest animal is the African Elephant.\", \"answer\": \"False\"},\n",
    "    {\"text\": \"Approximately one quarter of human bones are in the feet.\", \"answer\": \"True\"},\n",
    "    {\"text\": \"The total surface area of a human lungs is the size of a football pitch.\", \"answer\": \"True\"},\n",
    "    {\"text\": \"In West Virginia, USA, if you accidentally hit an animal with your car, you are free to take it home to eat.\", \"answer\": \"True\"},\n",
    "    {\"text\": \"In London, UK, if you happen to die in the House of Parliament, you are entitled to a state funeral.\", \"answer\": \"False\"},\n",
    "    {\"text\": \"It is illegal to pee in the Ocean in Portugal.\", \"answer\": \"True\"},\n",
    "    {\"text\": \"You can lead a cow down stairs but not up stairs.\", \"answer\": \"False\"},\n",
    "    {\"text\": \"Google was originally called 'Backrub'.\", \"answer\": \"True\"},\n",
    "    {\"text\": \"Buzz Aldrin's mother's maiden name was 'Moon'.\", \"answer\": \"True\"},\n",
    "    {\"text\": \"No piece of square dry paper can be folded in half more than 7 times.\", \"answer\": \"False\"},\n",
    "    {\"text\": \"A few ounces of chocolate can to kill a small dog.\", \"answer\": \"True\"}\n",
    "]"
   ]
  },
  {
   "cell_type": "code",
   "execution_count": 24,
   "metadata": {},
   "outputs": [],
   "source": [
    "class QuizBrain:\n",
    "    def __init__(self, q_list):\n",
    "        self.question_number = 0\n",
    "        self.question_list = q_list\n",
    "        self.score = 0\n",
    "    def next_question(self):\n",
    "        current_question = self.question_list[self.question_number]\n",
    "        self.question_number += 1\n",
    "        user_answer = input(f\"Q.{self.question_number}: {current_question.text} (True/False): \")\n",
    "        self.check_answer(user_answer, current_question.answer)\n",
    "    def check_answer(self, user_answer, correct_answer):\n",
    "        if user_answer.lower() == correct_answer.lower():\n",
    "            print(\"You got it right!\")\n",
    "            self.score += 1\n",
    "        else:\n",
    "            print(\"That's wrong.\")\n",
    "            print(f\"The correct answer was: {correct_answer}.\")\n",
    "            print(f\"Your current score is: {self.score}/{self.question_number}\")\n",
    "    def still_has_questions(self):\n",
    "        return self.question_number < len(self.question_list)\n",
    "    def score(self):\n",
    "        return self.question_number\n",
    "    def final_score(self):\n",
    "        return self.question_number"
   ]
  },
  {
   "cell_type": "code",
   "execution_count": 25,
   "metadata": {},
   "outputs": [
    {
     "ename": "KeyError",
     "evalue": "'question'",
     "output_type": "error",
     "traceback": [
      "\u001b[1;31m---------------------------------------------------------------------------\u001b[0m",
      "\u001b[1;31mKeyError\u001b[0m                                  Traceback (most recent call last)",
      "Cell \u001b[1;32mIn[25], line 8\u001b[0m\n\u001b[0;32m      6\u001b[0m question_bank \u001b[38;5;241m=\u001b[39m []\n\u001b[0;32m      7\u001b[0m \u001b[38;5;28;01mfor\u001b[39;00m question \u001b[38;5;129;01min\u001b[39;00m question_data:\n\u001b[1;32m----> 8\u001b[0m     question_text \u001b[38;5;241m=\u001b[39m \u001b[43mquestion\u001b[49m\u001b[43m[\u001b[49m\u001b[38;5;124;43m\"\u001b[39;49m\u001b[38;5;124;43mquestion\u001b[39;49m\u001b[38;5;124;43m\"\u001b[39;49m\u001b[43m]\u001b[49m\n\u001b[0;32m      9\u001b[0m     question_answer \u001b[38;5;241m=\u001b[39m question[\u001b[38;5;124m\"\u001b[39m\u001b[38;5;124mcorrect_answer\u001b[39m\u001b[38;5;124m\"\u001b[39m]\n\u001b[0;32m     10\u001b[0m     new_question \u001b[38;5;241m=\u001b[39m Question(question_text, question_answer)\n",
      "\u001b[1;31mKeyError\u001b[0m: 'question'"
     ]
    }
   ],
   "source": [
    "#from question_model \n",
    "#import Question\n",
    "#from data \n",
    "#import question_data\n",
    "\n",
    "question_bank = []\n",
    "for question in question_data:\n",
    "    question_text = question[\"question\"]\n",
    "    question_answer = question[\"correct_answer\"]\n",
    "    new_question = Question(question_text, question_answer)\n",
    "    question_bank.append(new_question)\n",
    "quiz = QuizBrain(question_bank)\n",
    "while quiz.still_has_questions():\n",
    "    quiz.next_question()\n",
    "    print(quiz.score)\n",
    "    print('Next Question : \\n')\n",
    "    \n",
    "print(\"You have finished the Quiz\")"
   ]
  },
  {
   "cell_type": "markdown",
   "metadata": {},
   "source": [
    "# Changing the Question"
   ]
  },
  {
   "cell_type": "code",
   "execution_count": 34,
   "metadata": {},
   "outputs": [
    {
     "name": "stdout",
     "output_type": "stream",
     "text": [
      "That's wrong.\n",
      "The correct answer was: True.\n",
      "Your current score is: 0/1\n",
      "\n",
      "\n",
      "That's wrong.\n",
      "The correct answer was: False.\n",
      "Your current score is: 0/2\n",
      "\n",
      "\n",
      "That's wrong.\n",
      "The correct answer was: False.\n",
      "Your current score is: 0/3\n",
      "\n",
      "\n",
      "That's wrong.\n",
      "The correct answer was: False.\n",
      "Your current score is: 0/4\n",
      "\n",
      "\n",
      "That's wrong.\n",
      "The correct answer was: True.\n",
      "Your current score is: 0/5\n",
      "\n",
      "\n",
      "That's wrong.\n",
      "The correct answer was: False.\n",
      "Your current score is: 0/6\n",
      "\n",
      "\n",
      "That's wrong.\n",
      "The correct answer was: True.\n",
      "Your current score is: 0/7\n",
      "\n",
      "\n",
      "That's wrong.\n",
      "The correct answer was: True.\n",
      "Your current score is: 0/8\n",
      "\n",
      "\n",
      "That's wrong.\n",
      "The correct answer was: True.\n",
      "Your current score is: 0/9\n",
      "\n",
      "\n",
      "That's wrong.\n",
      "The correct answer was: False.\n",
      "Your current score is: 0/10\n",
      "\n",
      "\n",
      "You've completed the quiz\n",
      "Your final score was: 0/10\n"
     ]
    }
   ],
   "source": [
    "question_data = [\n",
    "    {\n",
    "        \"category\": \"Science: Computers\",\n",
    "        \"type\": \"boolean\",\n",
    "        \"difficulty\": \"medium\",\n",
    "        \"question\": \"The HTML5 standard was published in 2014.\",\n",
    "        \"correct_answer\": \"True\",\n",
    "        \"incorrect_answers\": [\n",
    "            \"False\"\n",
    "        ]\n",
    "    },\n",
    "    {\n",
    "        \"category\": \"Science: Computers\",\n",
    "        \"type\": \"boolean\",\n",
    "        \"difficulty\": \"medium\",\n",
    "        \"question\": \"The first computer bug was formed by faulty wires.\",\n",
    "        \"correct_answer\": \"False\",\n",
    "        \"incorrect_answers\": [\n",
    "            \"True\"\n",
    "        ]\n",
    "    },\n",
    "    {\n",
    "        \"category\": \"Science: Computers\",\n",
    "        \"type\": \"boolean\",\n",
    "        \"difficulty\": \"medium\",\n",
    "        \"question\": \"FLAC stands for 'Free Lossless Audio Condenser'.\",\n",
    "        \"correct_answer\": \"False\",\n",
    "        \"incorrect_answers\": [\n",
    "            \"True\"\n",
    "        ]\n",
    "    },\n",
    "    {\n",
    "        \"category\": \"Science: Computers\",\n",
    "        \"type\": \"boolean\",\n",
    "        \"difficulty\": \"medium\",\n",
    "        \"question\": \"All program codes have to be compiled into an executable file in order to be run. This file can then be executed on any machine.\",\n",
    "        \"correct_answer\": \"False\",\n",
    "        \"incorrect_answers\": [\n",
    "            \"True\"\n",
    "        ]\n",
    "    },\n",
    "    {\n",
    "        \"category\": \"Science: Computers\",\n",
    "        \"type\": \"boolean\",\n",
    "        \"difficulty\": \"easy\",\n",
    "        \"question\": \"Linus Torvalds created Linux and Git.\",\n",
    "        \"correct_answer\": \"True\",\n",
    "        \"incorrect_answers\": [\n",
    "            \"False\"\n",
    "        ]\n",
    "    },\n",
    "    {\n",
    "        \"category\": \"Science: Computers\",\n",
    "        \"type\": \"boolean\",\n",
    "        \"difficulty\": \"easy\",\n",
    "        \"question\": \"The programming language 'Python' is based off a modified version of 'JavaScript'\",\n",
    "        \"correct_answer\": \"False\",\n",
    "        \"incorrect_answers\": [\n",
    "            \"True\"\n",
    "        ]\n",
    "    },\n",
    "    {\n",
    "        \"category\": \"Science: Computers\",\n",
    "        \"type\": \"boolean\",\n",
    "        \"difficulty\": \"medium\",\n",
    "        \"question\": \"AMD created the first consumer 64-bit processor.\",\n",
    "        \"correct_answer\": \"True\",\n",
    "        \"incorrect_answers\": [\n",
    "            \"False\"\n",
    "        ]\n",
    "    },\n",
    "    {\n",
    "        \"category\": \"Science: Computers\",\n",
    "        \"type\": \"boolean\",\n",
    "        \"difficulty\": \"easy\",\n",
    "        \"question\": \"'HTML' stands for Hypertext Markup Language.\",\n",
    "        \"correct_answer\": \"True\",\n",
    "        \"incorrect_answers\": [\n",
    "            \"False\"\n",
    "        ]\n",
    "    },\n",
    "    {\n",
    "        \"category\": \"Science: Computers\",\n",
    "        \"type\": \"boolean\",\n",
    "        \"difficulty\": \"easy\",\n",
    "        \"question\": \"In most programming languages, the operator ++ is equivalent to the statement '+= 1'.\",\n",
    "        \"correct_answer\": \"True\",\n",
    "        \"incorrect_answers\": [\n",
    "            \"False\"\n",
    "        ]\n",
    "    },\n",
    "    {\n",
    "        \"category\": \"Science: Computers\",\n",
    "        \"type\": \"boolean\",\n",
    "        \"difficulty\": \"hard\",\n",
    "        \"question\": \"The IBM PC used an Intel 8008 microprocessor clocked at 4.77 MHz and 8 kilobytes of memory.\",\n",
    "        \"correct_answer\": \"False\",\n",
    "        \"incorrect_answers\": [\n",
    "            \"True\"\n",
    "        ]\n",
    "    }\n",
    "]\n",
    "class Question:\n",
    "\n",
    "    def __init__(self, q_text, q_answer):\n",
    "        self.text = q_text\n",
    "        self.answer = q_answer\n",
    "\n",
    "class QuizBrain:\n",
    "\n",
    "    def __init__(self, q_list):\n",
    "        self.question_number = 0\n",
    "        self.score = 0\n",
    "        self.question_list = q_list\n",
    "\n",
    "    def still_has_questions(self):\n",
    "        return self.question_number < len(self.question_list)\n",
    "\n",
    "    def next_question(self):\n",
    "        current_question = self.question_list[self.question_number]\n",
    "        self.question_number += 1\n",
    "        user_answer = input(f\"Q.{self.question_number}: {current_question.text} (True/False): \")\n",
    "        self.check_answer(user_answer, current_question.answer)\n",
    "\n",
    "    def check_answer(self, user_answer, correct_answer):\n",
    "        if user_answer.lower() == correct_answer.lower():\n",
    "            self.score += 1\n",
    "            print(\"You got it right!\")\n",
    "        else:\n",
    "            print(\"That's wrong.\")\n",
    "        print(f\"The correct answer was: {correct_answer}.\")\n",
    "        print(f\"Your current score is: {self.score}/{self.question_number}\")\n",
    "        print(\"\\n\")\n",
    "\n",
    "\n",
    "\n",
    "question_bank = []\n",
    "for question in question_data:\n",
    "    question_text = question[\"question\"]\n",
    "    question_answer = question[\"correct_answer\"]\n",
    "    new_question = Question(question_text, question_answer)\n",
    "    question_bank.append(new_question)\n",
    "\n",
    "quiz = QuizBrain(question_bank)\n",
    "\n",
    "while quiz.still_has_questions():\n",
    "    quiz.next_question()\n",
    "\n",
    "print(\"You've completed the quiz\")\n",
    "print(f\"Your final score was: {quiz.score}/{quiz.question_number}\")"
   ]
  },
  {
   "cell_type": "code",
   "execution_count": null,
   "metadata": {},
   "outputs": [],
   "source": []
  }
 ],
 "metadata": {
  "kernelspec": {
   "display_name": "Python 3",
   "language": "python",
   "name": "python3"
  },
  "language_info": {
   "codemirror_mode": {
    "name": "ipython",
    "version": 3
   },
   "file_extension": ".py",
   "mimetype": "text/x-python",
   "name": "python",
   "nbconvert_exporter": "python",
   "pygments_lexer": "ipython3",
   "version": "3.11.4"
  }
 },
 "nbformat": 4,
 "nbformat_minor": 2
}
