{
 "cells": [
  {
   "cell_type": "code",
   "execution_count": 1,
   "metadata": {},
   "outputs": [
    {
     "name": "stdout",
     "output_type": "stream",
     "text": [
      "<turtle.Turtle object at 0x0000021967C9C850>\n"
     ]
    },
    {
     "ename": "TurtleGraphicsError",
     "evalue": "There is no shape named star",
     "output_type": "error",
     "traceback": [
      "\u001b[1;31m---------------------------------------------------------------------------\u001b[0m",
      "\u001b[1;31mTurtleGraphicsError\u001b[0m                       Traceback (most recent call last)",
      "Cell \u001b[1;32mIn[1], line 5\u001b[0m\n\u001b[0;32m      3\u001b[0m timmy \u001b[38;5;241m=\u001b[39m Turtle()\n\u001b[0;32m      4\u001b[0m \u001b[38;5;28mprint\u001b[39m(timmy)\n\u001b[1;32m----> 5\u001b[0m \u001b[43mtimmy\u001b[49m\u001b[38;5;241;43m.\u001b[39;49m\u001b[43mshape\u001b[49m\u001b[43m(\u001b[49m\u001b[38;5;124;43m\"\u001b[39;49m\u001b[38;5;124;43mstar\u001b[39;49m\u001b[38;5;124;43m\"\u001b[39;49m\u001b[43m)\u001b[49m\n\u001b[0;32m      6\u001b[0m timmy\u001b[38;5;241m.\u001b[39mcolor(\u001b[38;5;124m\"\u001b[39m\u001b[38;5;124mCadetBlue\u001b[39m\u001b[38;5;124m\"\u001b[39m)\n\u001b[0;32m      8\u001b[0m my_screen \u001b[38;5;241m=\u001b[39m Screen()\n",
      "File \u001b[1;32mc:\\Users\\tkmwangi\\AppData\\Local\\Programs\\Python\\Python311\\Lib\\turtle.py:2777\u001b[0m, in \u001b[0;36mRawTurtle.shape\u001b[1;34m(self, name)\u001b[0m\n\u001b[0;32m   2775\u001b[0m     \u001b[38;5;28;01mreturn\u001b[39;00m \u001b[38;5;28mself\u001b[39m\u001b[38;5;241m.\u001b[39mturtle\u001b[38;5;241m.\u001b[39mshapeIndex\n\u001b[0;32m   2776\u001b[0m \u001b[38;5;28;01mif\u001b[39;00m \u001b[38;5;129;01mnot\u001b[39;00m name \u001b[38;5;129;01min\u001b[39;00m \u001b[38;5;28mself\u001b[39m\u001b[38;5;241m.\u001b[39mscreen\u001b[38;5;241m.\u001b[39mgetshapes():\n\u001b[1;32m-> 2777\u001b[0m     \u001b[38;5;28;01mraise\u001b[39;00m TurtleGraphicsError(\u001b[38;5;124m\"\u001b[39m\u001b[38;5;124mThere is no shape named \u001b[39m\u001b[38;5;132;01m%s\u001b[39;00m\u001b[38;5;124m\"\u001b[39m \u001b[38;5;241m%\u001b[39m name)\n\u001b[0;32m   2778\u001b[0m \u001b[38;5;28mself\u001b[39m\u001b[38;5;241m.\u001b[39mturtle\u001b[38;5;241m.\u001b[39m_setshape(name)\n\u001b[0;32m   2779\u001b[0m \u001b[38;5;28mself\u001b[39m\u001b[38;5;241m.\u001b[39m_update()\n",
      "\u001b[1;31mTurtleGraphicsError\u001b[0m: There is no shape named star"
     ]
    },
    {
     "ename": "",
     "evalue": "",
     "output_type": "error",
     "traceback": [
      "\u001b[1;31mThe Kernel crashed while executing code in the current cell or a previous cell. \n",
      "\u001b[1;31mPlease review the code in the cell(s) to identify a possible cause of the failure. \n",
      "\u001b[1;31mClick <a href='https://aka.ms/vscodeJupyterKernelCrash'>here</a> for more info. \n",
      "\u001b[1;31mView Jupyter <a href='command:jupyter.viewOutput'>log</a> for further details."
     ]
    }
   ],
   "source": [
    "from turtle import Turtle,Screen\n",
    "\n",
    "timmy = Turtle()\n",
    "print(timmy)\n",
    "timmy.shape(\"star\")\n",
    "timmy.color(\"CadetBlue\")\n",
    "timmy.forward(100)\n",
    "\n",
    "my_screen = Screen()\n",
    "print(my_screen.canvheight)\n",
    "my_screen.exitonclick()"
   ]
  },
  {
   "cell_type": "code",
   "execution_count": 14,
   "metadata": {},
   "outputs": [
    {
     "name": "stdout",
     "output_type": "stream",
     "text": [
      "{'base_align_value': 'c', 'Pokemon Name': 'l', 'Type': 'l'}\n"
     ]
    },
    {
     "data": {
      "text/html": [
       "<table>\n",
       "    <thead>\n",
       "        <tr>\n",
       "            <th>Pokemon Name</th>\n",
       "            <th>Type</th>\n",
       "        </tr>\n",
       "    </thead>\n",
       "    <tbody>\n",
       "        <tr>\n",
       "            <td>Pikachu</td>\n",
       "            <td>Electric</td>\n",
       "        </tr>\n",
       "        <tr>\n",
       "            <td>Squirtle</td>\n",
       "            <td>Water</td>\n",
       "        </tr>\n",
       "        <tr>\n",
       "            <td>Charmander</td>\n",
       "            <td>Fire</td>\n",
       "        </tr>\n",
       "    </tbody>\n",
       "</table>"
      ],
      "text/plain": [
       "+--------------+----------+\n",
       "| Pokemon Name | Type     |\n",
       "+--------------+----------+\n",
       "| Pikachu      | Electric |\n",
       "| Squirtle     | Water    |\n",
       "| Charmander   | Fire     |\n",
       "+--------------+----------+"
      ]
     },
     "execution_count": 14,
     "metadata": {},
     "output_type": "execute_result"
    }
   ],
   "source": [
    "from prettytable import PrettyTable\n",
    "\n",
    "table = PrettyTable(['Pokemon Name','Type'])\n",
    "\n",
    "table.add_row(['Pikachu','Electric'])\n",
    "table.add_row(['Squirtle','Water'])\n",
    "table.add_row(['Charmander','Fire'])\n",
    "table.align = 'l'\n",
    "print(table.align)\n",
    "table\n",
    "\n"
   ]
  },
  {
   "cell_type": "code",
   "execution_count": null,
   "metadata": {},
   "outputs": [],
   "source": []
  }
 ],
 "metadata": {
  "kernelspec": {
   "display_name": "Python 3",
   "language": "python",
   "name": "python3"
  },
  "language_info": {
   "codemirror_mode": {
    "name": "ipython",
    "version": 3
   },
   "file_extension": ".py",
   "mimetype": "text/x-python",
   "name": "python",
   "nbconvert_exporter": "python",
   "pygments_lexer": "ipython3",
   "version": "3.11.4"
  }
 },
 "nbformat": 4,
 "nbformat_minor": 2
}
