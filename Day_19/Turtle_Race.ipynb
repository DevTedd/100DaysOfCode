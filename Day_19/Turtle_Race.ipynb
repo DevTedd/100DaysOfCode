{
 "cells": [
  {
   "cell_type": "markdown",
   "metadata": {},
   "source": [
    "# Higher Order Functions\n",
    "\n",
    "## 1. Listening to key strokes ;)"
   ]
  },
  {
   "cell_type": "code",
   "execution_count": 1,
   "metadata": {},
   "outputs": [],
   "source": [
    "#Turtle event listeners\n",
    "\n",
    "from turtle import Turtle, Screen\n",
    "\n",
    "ted = Turtle()\n",
    "scrn = Screen()\n",
    "\n",
    "#Movement\n",
    "def move_forwards():\n",
    "    ted.forward(10)\n",
    "\n",
    "\n",
    "\n",
    "#Activate the screen\n",
    "scrn.listen()\n",
    "scrn.onkey(key='space', fun=move_forwards)#take care to not add the parenthesis\n",
    "                            #() TRIGGERS IT IMMEDIATELY\n",
    "                        #When you use a function as input you dont add the parathensis\n",
    "                           \n",
    "scrn.exitonclick()\n",
    "\n"
   ]
  },
  {
   "cell_type": "markdown",
   "metadata": {},
   "source": [
    "# Make an etch a sketch board "
   ]
  },
  {
   "cell_type": "code",
   "execution_count": 1,
   "metadata": {},
   "outputs": [],
   "source": [
    "from turtle import Turtle, Screen\n",
    "sketch = Turtle()\n",
    "scrn = Screen()\n",
    "\n",
    "#Movement\n",
    "def move_forwards():\n",
    "    sketch.forward(10)\n",
    "def move_backwards():\n",
    "    sketch.backward(10)\n",
    "def clockwise():\n",
    "    sketch.right(10)\n",
    "def anti_clock():\n",
    "    sketch.left(10)\n",
    "\n",
    "#Clear screen\n",
    "def clear_screen():\n",
    "    sketch.clear()\n",
    "    sketch.penup()\n",
    "    sketch.home()\n",
    "    sketch.pendown()\n",
    "\n",
    "#Activating the screen\n",
    "scrn.listen()\n",
    "\n",
    "#Controling turtle\n",
    "scrn.onkey(key='w', fun=move_forwards)\n",
    "scrn.onkey(key='s', fun=move_backwards)\n",
    "scrn.onkey(key='a', fun=clockwise)\n",
    "scrn.onkey(key='d', fun=anti_clock)\n",
    "scrn.onkey(key='c', fun=clear_screen)\n",
    "\n",
    "#Ending game\n",
    "scrn.exitonclick()"
   ]
  },
  {
   "cell_type": "markdown",
   "metadata": {},
   "source": [
    "# Building a turtle race \n",
    "\n",
    "## My version"
   ]
  },
  {
   "cell_type": "code",
   "execution_count": 1,
   "metadata": {},
   "outputs": [
    {
     "name": "stdout",
     "output_type": "stream",
     "text": [
      "blue\n",
      "You've lost, the winning color was red!\n"
     ]
    }
   ],
   "source": [
    "from turtle import Screen, Turtle\n",
    "\n",
    "\n",
    "scrn = Screen()\n",
    "\n",
    "\n",
    "#  Setting up the screen enviroment \n",
    "scrn.setup(width=500,height=400)\n",
    "#User input from the screen\n",
    "user_bet = scrn.textinput(title=\"Start your engineeeeessss!!!!\", prompt=\"Which color do you think would win?? Choose your champion: \")\n",
    "print(user_bet)\n",
    "\n",
    "colors = [\"red\",\"orange\",\"yellow\",\"green\",\"blue\",\"purple\"]\n",
    "\n",
    "#Work for the turtles\n",
    "# racer1 = Turtle(shape=\"turtle\")\n",
    "# racer1.color(\"red\")\n",
    "# racer1.penup()\n",
    "# racer1.goto(x=-249, y=-75)\n",
    "\n",
    "# racer2 = Turtle(shape=\"turtle\")\n",
    "# racer2.color(\"orange\")\n",
    "# racer2.penup()\n",
    "# racer2.goto(x=-249, y=-45)\n",
    "\n",
    "# racer3 = Turtle(shape=\"turtle\")\n",
    "# racer3.color(\"yellow\")\n",
    "# racer3.penup()\n",
    "# racer3.goto(x=-249, y=-5)\n",
    "\n",
    "# racer4 = Turtle(shape=\"turtle\")\n",
    "# racer4.color(\"green\")\n",
    "# racer4.penup()\n",
    "# racer4.goto(x=-249, y=20)\n",
    "\n",
    "# racer5 = Turtle(shape=\"turtle\")\n",
    "# racer5.color(\"blue\")\n",
    "# racer5.penup()\n",
    "# racer5.goto(x=-249, y=55)\n",
    "\n",
    "# racer6 = Turtle(shape=\"turtle\")\n",
    "# racer6.color(\"purple\")\n",
    "# racer6.penup()\n",
    "# racer6.goto(x=-249, y=95)\n",
    "\n",
    "\n",
    "# or\n",
    "from turtle import Screen, Turtle\n",
    "import random\n",
    "\n",
    "scrn = Screen()\n",
    "colors = [\"red\",\"orange\",\"yellow\",\"green\",\"blue\",\"purple\"]\n",
    "y_positions = [-70, -40, -10, 20, 50,80]\n",
    "all_turtles = []\n",
    "\n",
    "for turtle_index in range(0,6):\n",
    "    new_turtle = Turtle(shape='turtle')\n",
    "    new_turtle.speed('fast')\n",
    "    new_turtle.color(colors[turtle_index])\n",
    "    new_turtle.penup()\n",
    "    new_turtle.goto(x=-200,y=y_positions[turtle_index])\n",
    "    all_turtles.append(new_turtle)\n",
    "    \n",
    "    \n",
    "is_race_on = False\n",
    "#movement\n",
    "if user_bet:\n",
    "    is_race_on = True\n",
    "    \n",
    "while is_race_on:\n",
    "    for turtle in all_turtles:\n",
    "        if turtle.xcor() > 220:\n",
    "            is_race_on = False\n",
    "            winning_color = turtle.pencolor()\n",
    "            if winning_color == user_bet:\n",
    "                print(f\"You've won, the winning color was {winning_color}!\")\n",
    "            else :\n",
    "                print(f\"You've lost, the winning color was {winning_color}!\")\n",
    "                \n",
    "        rand_dsitance = random.randint(0,10)\n",
    "        turtle.forward(rand_dsitance)\n",
    "            \n",
    "\n",
    "scrn.exitonclick()"
   ]
  },
  {
   "cell_type": "code",
   "execution_count": null,
   "metadata": {},
   "outputs": [],
   "source": []
  }
 ],
 "metadata": {
  "kernelspec": {
   "display_name": "Python 3",
   "language": "python",
   "name": "python3"
  },
  "language_info": {
   "codemirror_mode": {
    "name": "ipython",
    "version": 3
   },
   "file_extension": ".py",
   "mimetype": "text/x-python",
   "name": "python",
   "nbconvert_exporter": "python",
   "pygments_lexer": "ipython3",
   "version": "3.11.4"
  }
 },
 "nbformat": 4,
 "nbformat_minor": 2
}
