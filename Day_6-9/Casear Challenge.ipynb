{
 "cells": [
  {
   "cell_type": "markdown",
   "metadata": {},
   "source": [
    "# Caesar Cipher\n",
    "\n",
    "1. Starting with a deeper dive into functions "
   ]
  },
  {
   "cell_type": "code",
   "execution_count": 6,
   "metadata": {},
   "outputs": [
    {
     "name": "stdout",
     "output_type": "stream",
     "text": [
      "Hello!\n",
      "how do you do\n",
      "What lovely weather we are having? \n"
     ]
    }
   ],
   "source": [
    "def greet():\n",
    "    print(\"Hello!\")\n",
    "    print('how do you do')\n",
    "    print(\"What lovely weather we are having? \")\n",
    "    \n",
    "greet()"
   ]
  },
  {
   "cell_type": "code",
   "execution_count": 7,
   "metadata": {},
   "outputs": [
    {
     "name": "stdout",
     "output_type": "stream",
     "text": [
      "Hello! Ted\n",
      "how do you do\n",
      "What lovely weather we are having, Ted? \n"
     ]
    }
   ],
   "source": [
    "def greetwithName(name):\n",
    "    print(f\"Hello! {name}\")\n",
    "    print('how do you do')\n",
    "    print(f\"What lovely weather we are having, {name}? \")\n",
    "greetwithName(\"Ted\")"
   ]
  },
  {
   "cell_type": "markdown",
   "metadata": {},
   "source": [
    "Two types of inputs - parameter is the place holder(name of data), the argument is the variable itself"
   ]
  },
  {
   "cell_type": "code",
   "execution_count": 8,
   "metadata": {},
   "outputs": [
    {
     "name": "stdout",
     "output_type": "stream",
     "text": [
      "Hi TED, you recently went on a trip?\n",
      "How did it go?\n",
      "Was it at LOMBOK?\n"
     ]
    }
   ],
   "source": [
    "#Functions with more than one input\n",
    "\n",
    "#Below is a positional arguement \n",
    "\n",
    "def greetWith(name, location):\n",
    "    print(f\"Hi {name}, you recently went on a trip?\")\n",
    "    print(\"How did it go?\")\n",
    "    print(f\"Was it at {location}?\")\n",
    "greetWith(\"TED\",\"LOMBOK\")"
   ]
  },
  {
   "cell_type": "code",
   "execution_count": 9,
   "metadata": {},
   "outputs": [
    {
     "name": "stdout",
     "output_type": "stream",
     "text": [
      "Hi TED, you recently went on a trip?\n",
      "How did it go?\n",
      "Was it at Westlands?\n"
     ]
    }
   ],
   "source": [
    "#Keyword arguements \n",
    "\n",
    "def greetWith(name, location):\n",
    "    print(f\"Hi {name}, you recently went on a trip?\")\n",
    "    print(\"How did it go?\")\n",
    "    print(f\"Was it at {location}?\")\n",
    "greetWith(name = \"TED\", location=\"Westlands\")"
   ]
  },
  {
   "cell_type": "markdown",
   "metadata": {},
   "source": [
    "# Paint can calculator "
   ]
  },
  {
   "cell_type": "code",
   "execution_count": 10,
   "metadata": {},
   "outputs": [
    {
     "ename": "ValueError",
     "evalue": "invalid literal for int() with base 10: ''",
     "output_type": "error",
     "traceback": [
      "\u001b[1;31m---------------------------------------------------------------------------\u001b[0m",
      "\u001b[1;31mValueError\u001b[0m                                Traceback (most recent call last)",
      "Cell \u001b[1;32mIn[10], line 9\u001b[0m\n\u001b[0;32m      6\u001b[0m     cans \u001b[38;5;241m=\u001b[39m math\u001b[38;5;241m.\u001b[39mceil(can_count)\n\u001b[0;32m      7\u001b[0m     \u001b[38;5;28mprint\u001b[39m(\u001b[38;5;124mf\u001b[39m\u001b[38;5;124m\"\u001b[39m\u001b[38;5;124mHi, you will need around \u001b[39m\u001b[38;5;132;01m{\u001b[39;00mcans\u001b[38;5;132;01m}\u001b[39;00m\u001b[38;5;124m cans of paint\u001b[39m\u001b[38;5;124m\"\u001b[39m)\n\u001b[1;32m----> 9\u001b[0m test_h \u001b[38;5;241m=\u001b[39m \u001b[38;5;28;43mint\u001b[39;49m\u001b[43m(\u001b[49m\u001b[38;5;28;43minput\u001b[39;49m\u001b[43m(\u001b[49m\u001b[43m)\u001b[49m\u001b[43m)\u001b[49m\n\u001b[0;32m     10\u001b[0m test_w \u001b[38;5;241m=\u001b[39m \u001b[38;5;28mint\u001b[39m(\u001b[38;5;28minput\u001b[39m())\n\u001b[0;32m     11\u001b[0m cover \u001b[38;5;241m=\u001b[39m \u001b[38;5;241m5\u001b[39m\n",
      "\u001b[1;31mValueError\u001b[0m: invalid literal for int() with base 10: ''"
     ]
    }
   ],
   "source": [
    "import math\n",
    "cans = 0\n",
    "def paint_calc(height,width,cover):\n",
    "    area = height * width\n",
    "    can_count = area / cover\n",
    "    cans = math.ceil(can_count)\n",
    "    print(f\"Hi, you will need around {cans} cans of paint\")\n",
    "    \n",
    "test_h = int(input())\n",
    "test_w = int(input())\n",
    "cover = 5\n",
    "paint_calc(height=test_h,width=test_w,cover=cover)"
   ]
  },
  {
   "cell_type": "markdown",
   "metadata": {},
   "source": [
    "# Prime Number Verificator"
   ]
  },
  {
   "cell_type": "code",
   "execution_count": null,
   "metadata": {},
   "outputs": [
    {
     "name": "stdout",
     "output_type": "stream",
     "text": [
      "The number you have entered is --- Is not a Prime\n"
     ]
    }
   ],
   "source": [
    "import math\n",
    "\n",
    "def prime_checker(number):\n",
    "    is_prime = True\n",
    "    output = \"Is a Prime\"\n",
    "    for i in range(2, number):\n",
    "        if number % i == 0:\n",
    "            is_prime = False\n",
    "            output = 'Is not a Prime'\n",
    "    print(f\"The number you have entered is --- {output}\")\n",
    "\n",
    "\n",
    "\n",
    "n = int(input(\"Enter your number here: \"))\n",
    "prime_checker(number=n)\n"
   ]
  },
  {
   "cell_type": "markdown",
   "metadata": {},
   "source": [
    "## The actual challenge \n",
    "\n",
    "# Caesar Cipher "
   ]
  },
  {
   "cell_type": "code",
   "execution_count": 12,
   "metadata": {},
   "outputs": [
    {
     "name": "stdout",
     "output_type": "stream",
     "text": [
      "The decoded text is: ted\n"
     ]
    }
   ],
   "source": [
    "alphabet = ['a', 'b', 'c', 'd', 'e', 'f', 'g', 'h', 'i', 'j', 'k', 'l', 'm', 'n', 'o', 'p', 'q', 'r', 's', 't', 'u', 'v', 'w', 'x', 'y', 'z','a', 'b', 'c', 'd', 'e', 'f', 'g', 'h', 'i', 'j', 'k', 'l', 'm', 'n', 'o', 'p', 'q', 'r', 's', 't', 'u', 'v', 'w', 'x', 'y', 'z']\n",
    "\n",
    "direction = input(\"Type 'encode' to encrypt, type 'decode' to decrypt:\\n\")\n",
    "text = input(\"Type your message:\\n\").lower()\n",
    "shift = int(input(\"Type the shift number:\\n\"))\n",
    "\n",
    "# TODO \n",
    "# -1: Create a function called 'encrypt' that takes the 'text' and 'shift' as inputs.\n",
    "\n",
    "def encrypt(text,shift):\n",
    "    cipher_text = ''\n",
    "    for n in text:\n",
    "        position = alphabet.index(n)\n",
    "        new_position = position + shift\n",
    "        new_letter = alphabet[new_position]\n",
    "        cipher_text += new_letter\n",
    "    print(f'The ecoded text is: {cipher_text}')\n",
    "    \n",
    "def decrypt(text,shift):\n",
    "    cipher_text = ''\n",
    "    for n in text:\n",
    "        position = alphabet.index(n)\n",
    "        new_position = position - shift\n",
    "        new_letter = alphabet[new_position]\n",
    "        cipher_text += new_letter\n",
    "    print(f'The decoded text is: {cipher_text}')\n",
    "    \n",
    "\n",
    "\n",
    "def run_process(text, shift, direction):\n",
    "    if direction == \"encode\":\n",
    "        encrypt(text=text,shift=shift)\n",
    "    elif direction == \"decode\":\n",
    "        decrypt(text=text,shift=shift)\n",
    "    else:\n",
    "        print('Invalid Input')\n",
    "\n",
    "\n",
    "\n",
    "def caesar(start_text, shift_amount, cipher_direction):\n",
    "    end_text = ' '\n",
    "    if direction == \"decode\":\n",
    "            shift_amount *= -1\n",
    "    for n in start_text:\n",
    "        position = alphabet.index(n)\n",
    "        new_position = position + shift_amount\n",
    "        end_text += alphabet[new_position]\n",
    "        print(f\"The {cipher_direction} text is { end_text}\")\n",
    "        \n",
    "caesar(text=text,shift=shift,direction=direction)        "
   ]
  },
  {
   "cell_type": "code",
   "execution_count": null,
   "metadata": {},
   "outputs": [],
   "source": [
    "alphabet = ['a', 'b', 'c', 'd', 'e', 'f', 'g', 'h', 'i', 'j', 'k', 'l', 'm', 'n', 'o', 'p', 'q', 'r', 's', 't', 'u', 'v', 'w', 'x', 'y', 'z', 'a', 'b', 'c', 'd', 'e', 'f', 'g', 'h', 'i', 'j', 'k', 'l', 'm', 'n', 'o', 'p', 'q', 'r', 's', 't', 'u', 'v', 'w', 'x', 'y', 'z']\n",
    "\n",
    "def caesar(start_text, shift_amount, cipher_direction):\n",
    "  end_text = \"\"\n",
    "  if cipher_direction == \"decode\":\n",
    "    shift_amount *= -1\n",
    "  for char in start_text:\n",
    "    if char in alphabet:\n",
    "      position = alphabet.index(char)\n",
    "      new_position = position + shift_amount\n",
    "      end_text += alphabet[new_position]\n",
    "    else:\n",
    "      end_text += char      \n",
    "  print(f\"Here's the {cipher_direction}d result: {end_text}\")\n",
    "\n",
    "#TODO-1: Import and print the logo from art.py when the program starts.\n",
    "from art import logo\n",
    "print(logo)\n",
    "answer = True\n",
    "while answer == True:\n",
    "  direction = input(\"Type 'encode' to encrypt, type 'decode' to decrypt:\\n\")\n",
    "  text = input(\"Type your message:\\n\").lower()\n",
    "  shift = int(input(\"Type the shift number:\\n\"))\n",
    "  shift = shift % 26\n",
    "  caesar(start_text=text, shift_amount=shift, cipher_direction=direction)\n",
    "  user_answer = input(\"Do you want to continue? Type 'yes' or 'no'.\\n\").lower()\n",
    "  if user_answer == 'no':\n",
    "    answer = False\n",
    "    print(\"Goodbye\")\n",
    " "
   ]
  }
 ],
 "metadata": {
  "kernelspec": {
   "display_name": "Python 3",
   "language": "python",
   "name": "python3"
  },
  "language_info": {
   "codemirror_mode": {
    "name": "ipython",
    "version": 3
   },
   "file_extension": ".py",
   "mimetype": "text/x-python",
   "name": "python",
   "nbconvert_exporter": "python",
   "pygments_lexer": "ipython3",
   "version": "3.11.4"
  }
 },
 "nbformat": 4,
 "nbformat_minor": 2
}
