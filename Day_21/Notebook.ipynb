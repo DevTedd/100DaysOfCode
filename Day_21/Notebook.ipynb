{
 "cells": [
  {
   "cell_type": "code",
   "execution_count": 1,
   "metadata": {},
   "outputs": [
    {
     "ename": "Terminator",
     "evalue": "",
     "output_type": "error",
     "traceback": [
      "\u001b[1;31m---------------------------------------------------------------------------\u001b[0m",
      "\u001b[1;31mTerminator\u001b[0m                                Traceback (most recent call last)",
      "Cell \u001b[1;32mIn[1], line 35\u001b[0m\n\u001b[0;32m     33\u001b[0m game_is_on \u001b[38;5;241m=\u001b[39m \u001b[38;5;28;01mTrue\u001b[39;00m\n\u001b[0;32m     34\u001b[0m \u001b[38;5;28;01mwhile\u001b[39;00m game_is_on:\n\u001b[1;32m---> 35\u001b[0m     \u001b[43mscreen\u001b[49m\u001b[38;5;241;43m.\u001b[39;49m\u001b[43mupdate\u001b[49m\u001b[43m(\u001b[49m\u001b[43m)\u001b[49m\n\u001b[0;32m     37\u001b[0m screen\u001b[38;5;241m.\u001b[39mexitonclick()\n",
      "File \u001b[1;32mc:\\Users\\tkmwangi\\AppData\\Local\\Programs\\Python\\Python311\\Lib\\turtle.py:1304\u001b[0m, in \u001b[0;36mTurtleScreen.update\u001b[1;34m(self)\u001b[0m\n\u001b[0;32m   1302\u001b[0m \u001b[38;5;28mself\u001b[39m\u001b[38;5;241m.\u001b[39m_tracing \u001b[38;5;241m=\u001b[39m \u001b[38;5;28;01mTrue\u001b[39;00m\n\u001b[0;32m   1303\u001b[0m \u001b[38;5;28;01mfor\u001b[39;00m t \u001b[38;5;129;01min\u001b[39;00m \u001b[38;5;28mself\u001b[39m\u001b[38;5;241m.\u001b[39mturtles():\n\u001b[1;32m-> 1304\u001b[0m     \u001b[43mt\u001b[49m\u001b[38;5;241;43m.\u001b[39;49m\u001b[43m_update_data\u001b[49m\u001b[43m(\u001b[49m\u001b[43m)\u001b[49m\n\u001b[0;32m   1305\u001b[0m     t\u001b[38;5;241m.\u001b[39m_drawturtle()\n\u001b[0;32m   1306\u001b[0m \u001b[38;5;28mself\u001b[39m\u001b[38;5;241m.\u001b[39m_tracing \u001b[38;5;241m=\u001b[39m tracing\n",
      "File \u001b[1;32mc:\\Users\\tkmwangi\\AppData\\Local\\Programs\\Python\\Python311\\Lib\\turtle.py:2647\u001b[0m, in \u001b[0;36mRawTurtle._update_data\u001b[1;34m(self)\u001b[0m\n\u001b[0;32m   2646\u001b[0m \u001b[38;5;28;01mdef\u001b[39;00m \u001b[38;5;21m_update_data\u001b[39m(\u001b[38;5;28mself\u001b[39m):\n\u001b[1;32m-> 2647\u001b[0m     \u001b[38;5;28;43mself\u001b[39;49m\u001b[38;5;241;43m.\u001b[39;49m\u001b[43mscreen\u001b[49m\u001b[38;5;241;43m.\u001b[39;49m\u001b[43m_incrementudc\u001b[49m\u001b[43m(\u001b[49m\u001b[43m)\u001b[49m\n\u001b[0;32m   2648\u001b[0m     \u001b[38;5;28;01mif\u001b[39;00m \u001b[38;5;28mself\u001b[39m\u001b[38;5;241m.\u001b[39mscreen\u001b[38;5;241m.\u001b[39m_updatecounter \u001b[38;5;241m!=\u001b[39m \u001b[38;5;241m0\u001b[39m:\n\u001b[0;32m   2649\u001b[0m         \u001b[38;5;28;01mreturn\u001b[39;00m\n",
      "File \u001b[1;32mc:\\Users\\tkmwangi\\AppData\\Local\\Programs\\Python\\Python311\\Lib\\turtle.py:1293\u001b[0m, in \u001b[0;36mTurtleScreen._incrementudc\u001b[1;34m(self)\u001b[0m\n\u001b[0;32m   1291\u001b[0m \u001b[38;5;28;01mif\u001b[39;00m \u001b[38;5;129;01mnot\u001b[39;00m TurtleScreen\u001b[38;5;241m.\u001b[39m_RUNNING:\n\u001b[0;32m   1292\u001b[0m     TurtleScreen\u001b[38;5;241m.\u001b[39m_RUNNING \u001b[38;5;241m=\u001b[39m \u001b[38;5;28;01mTrue\u001b[39;00m\n\u001b[1;32m-> 1293\u001b[0m     \u001b[38;5;28;01mraise\u001b[39;00m Terminator\n\u001b[0;32m   1294\u001b[0m \u001b[38;5;28;01mif\u001b[39;00m \u001b[38;5;28mself\u001b[39m\u001b[38;5;241m.\u001b[39m_tracing \u001b[38;5;241m>\u001b[39m \u001b[38;5;241m0\u001b[39m:\n\u001b[0;32m   1295\u001b[0m     \u001b[38;5;28mself\u001b[39m\u001b[38;5;241m.\u001b[39m_updatecounter \u001b[38;5;241m+\u001b[39m\u001b[38;5;241m=\u001b[39m \u001b[38;5;241m1\u001b[39m\n",
      "\u001b[1;31mTerminator\u001b[0m: "
     ]
    }
   ],
   "source": [
    "from turtle import Screen, Turtle\n",
    "\n",
    "\n",
    "#Setting up the screen enviroment \n",
    "screen = Screen()\n",
    "screen.setup(width=800, height=600)\n",
    "screen.bgcolor(\"black\")\n",
    "screen.title(\"Welcome to Pong 1998!!\")\n",
    "screen.tracer(0)\n",
    "\n",
    "\n",
    "#Creating a paddle \n",
    "paddle = Turtle()\n",
    "paddle.shape('square')\n",
    "paddle.color('white')\n",
    "paddle.shapesize(stretch_len=1,stretch_wid=5)\n",
    "paddle.penup()\n",
    "paddle.goto(350, 0)\n",
    "\n",
    "def go_up():\n",
    "    new_y = paddle.ycor() + 20\n",
    "    paddle.goto(paddle.xcor(),new_y)\n",
    "\n",
    "def go_down():\n",
    "    new_y = paddle.ycor() - 20\n",
    "    paddle.goto(paddle.xcor(),new_y)\n",
    "\n",
    "screen.listen()\n",
    "screen.onkey(go_up,\"Up\")\n",
    "screen.onkey(go_down,\"Down\")\n",
    "\n",
    "\n",
    "game_is_on = True\n",
    "while game_is_on:\n",
    "    screen.update()\n",
    "\n",
    "screen.exitonclick()"
   ]
  }
 ],
 "metadata": {
  "kernelspec": {
   "display_name": "Python 3",
   "language": "python",
   "name": "python3"
  },
  "language_info": {
   "codemirror_mode": {
    "name": "ipython",
    "version": 3
   },
   "file_extension": ".py",
   "mimetype": "text/x-python",
   "name": "python",
   "nbconvert_exporter": "python",
   "pygments_lexer": "ipython3",
   "version": "3.11.4"
  }
 },
 "nbformat": 4,
 "nbformat_minor": 2
}
