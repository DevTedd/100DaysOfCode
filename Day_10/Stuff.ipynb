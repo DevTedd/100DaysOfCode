{
 "cells": [
  {
   "cell_type": "markdown",
   "metadata": {},
   "source": [
    "# Functions and improving redanduncy "
   ]
  },
  {
   "cell_type": "code",
   "execution_count": 6,
   "metadata": {},
   "outputs": [
    {
     "name": "stdout",
     "output_type": "stream",
     "text": [
      "Ittyssdkpeep Oprjds\n"
     ]
    }
   ],
   "source": [
    "def format_name(f_name,l_name):\n",
    "    \"\"\"\"Takes first name and turns it into a title version \"\"\"\n",
    "    return (f_name.title()) + \" \" +(l_name.title())\n",
    "\n",
    "fixed_name = format_name('IttysSDKpeeP','oPRJDS')\n",
    "format_name()\n",
    "print(fixed_name)"
   ]
  },
  {
   "cell_type": "code",
   "execution_count": null,
   "metadata": {},
   "outputs": [],
   "source": []
  }
 ],
 "metadata": {
  "kernelspec": {
   "display_name": "Python 3",
   "language": "python",
   "name": "python3"
  },
  "language_info": {
   "codemirror_mode": {
    "name": "ipython",
    "version": 3
   },
   "file_extension": ".py",
   "mimetype": "text/x-python",
   "name": "python",
   "nbconvert_exporter": "python",
   "pygments_lexer": "ipython3",
   "version": "3.11.4"
  }
 },
 "nbformat": 4,
 "nbformat_minor": 2
}
