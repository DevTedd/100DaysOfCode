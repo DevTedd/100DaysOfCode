{
 "cells": [
  {
   "cell_type": "markdown",
   "metadata": {},
   "source": [
    "# Final Challenge : Hirst Painting"
   ]
  },
  {
   "cell_type": "code",
   "execution_count": 3,
   "metadata": {},
   "outputs": [
    {
     "ename": "AttributeError",
     "evalue": "'list' object has no attribute 'drop'",
     "output_type": "error",
     "traceback": [
      "\u001b[1;31m---------------------------------------------------------------------------\u001b[0m",
      "\u001b[1;31mAttributeError\u001b[0m                            Traceback (most recent call last)",
      "Cell \u001b[1;32mIn[3], line 14\u001b[0m\n\u001b[0;32m     11\u001b[0m     new_color \u001b[38;5;241m=\u001b[39m (r,g,b)\n\u001b[0;32m     12\u001b[0m     rgb_colors\u001b[38;5;241m.\u001b[39mappend(new_color)\n\u001b[1;32m---> 14\u001b[0m \u001b[43mrgb_colors\u001b[49m\u001b[38;5;241;43m.\u001b[39;49m\u001b[43mdrop\u001b[49m[\u001b[38;5;241m0\u001b[39m]\n",
      "\u001b[1;31mAttributeError\u001b[0m: 'list' object has no attribute 'drop'"
     ]
    }
   ],
   "source": [
    "import colorgram as col\n",
    "\n",
    "rgb_colors = []\n",
    "colors = col.extract('image.jpg', 30)\n",
    "\n",
    "\n",
    "for n in colors:\n",
    "    r = n.rgb.r\n",
    "    g = n.rgb.g\n",
    "    b = n.rgb.b\n",
    "    new_color = (r,g,b)\n",
    "    rgb_colors.append(new_color)\n",
    "    \n",
    "rgb_colors"
   ]
  },
  {
   "cell_type": "code",
   "execution_count": 2,
   "metadata": {},
   "outputs": [],
   "source": [
    "# Creating the painting, 10 by 10 spots\n",
    "# spots are 20 in size with 50 as spacing\n",
    "\n",
    "import turtle as t \n",
    "import random\n",
    "\n",
    "t.colormode(255)# setting color mode\n",
    "hurst = t.Turtle()\n",
    "hurst.speed('fastest')# setting speed\n",
    "hurst.penup()# to avoid the lines\n",
    "hurst.hideturtle()\n",
    "\n",
    "\n",
    "hurst.setheading(225)\n",
    "hurst.forward(300)\n",
    "hurst.setheading(0)\n",
    "\n",
    "num_0f_dots = 100\n",
    "\n",
    "for n in range(1,(num_0f_dots+1)):\n",
    "    hurst.dot(20,random.choice(rgb_colors))\n",
    "    hurst.forward(50)\n",
    "    \n",
    "    if n % 10 == 0:\n",
    "        hurst.setheading(90)\n",
    "        hurst.forward(50)\n",
    "        hurst.setheading(180)\n",
    "        hurst.forward(500)\n",
    "        hurst.setheading(0)\n",
    "\n"
   ]
  },
  {
   "cell_type": "code",
   "execution_count": null,
   "metadata": {},
   "outputs": [],
   "source": []
  }
 ],
 "metadata": {
  "kernelspec": {
   "display_name": "Python 3",
   "language": "python",
   "name": "python3"
  },
  "language_info": {
   "codemirror_mode": {
    "name": "ipython",
    "version": 3
   },
   "file_extension": ".py",
   "mimetype": "text/x-python",
   "name": "python",
   "nbconvert_exporter": "python",
   "pygments_lexer": "ipython3",
   "version": "3.11.4"
  }
 },
 "nbformat": 4,
 "nbformat_minor": 2
}
