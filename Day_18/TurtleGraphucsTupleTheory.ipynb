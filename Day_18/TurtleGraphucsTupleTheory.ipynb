{
 "cells": [
  {
   "cell_type": "code",
   "execution_count": null,
   "metadata": {},
   "outputs": [],
   "source": [
    "from turtle import Turtle, Screen, Shape\n",
    "\n",
    "timmy_the_turtle = Turtle()\n",
    "\n",
    "#Changing the turtle shape\n",
    "timmy_the_turtle.shape('turtle')\n",
    "\n",
    "#Changing the color\n",
    "timmy_the_turtle.color('red')\n",
    "timmy_the_turtle.pencolor('purple')\n",
    "\n",
    "#Making the turtle do things\n",
    "# Motion \n",
    "\n",
    "timmy_the_turtle.speed(3)\n",
    "timmy_the_turtle.forward(100)\n",
    "timmy_the_turtle.right(90)\n",
    "timmy_the_turtle.forward(50)\n",
    "\n",
    "#\n",
    "timmy_the_turtle.left(100)\n",
    "timmy_the_turtle.right(90)\n",
    "timmy_the_turtle.forward(500)\n",
    "\n",
    "\n",
    "\n",
    "\n",
    "\n",
    "\n",
    "\n",
    "\n",
    "screen = Screen()\n",
    "screen.exitonclick()# Keeps window active until screen is clicked\n"
   ]
  },
  {
   "cell_type": "markdown",
   "metadata": {},
   "source": [
    "# Drawing a square"
   ]
  },
  {
   "cell_type": "code",
   "execution_count": null,
   "metadata": {},
   "outputs": [],
   "source": [
    "from turtle import Turtle, Screen, Shape\n",
    "box = Turtle()\n",
    "box.forward(100)\n",
    "box.right(90)\n",
    "box.forward(100)\n",
    "box.right(90)\n",
    "box.forward(100)\n",
    "box.right(90)\n",
    "box.forward(100)\n",
    "\n",
    "# or\n",
    "\n",
    "for _ in range(4):\n",
    "    box.forward(100)\n",
    "    box.left(90)\n"
   ]
  },
  {
   "cell_type": "code",
   "execution_count": null,
   "metadata": {},
   "outputs": [],
   "source": [
    "for _ in range(4):\n",
    "    box.forward(100)\n",
    "    box.left(90)"
   ]
  },
  {
   "cell_type": "markdown",
   "metadata": {},
   "source": [
    "# All the ways to import modules"
   ]
  },
  {
   "cell_type": "code",
   "execution_count": null,
   "metadata": {},
   "outputs": [],
   "source": [
    "import turtle\n",
    "\n",
    "ted = turtle.Turtle()\n",
    "\n",
    "# or\n",
    "\n",
    "from turtle import Turtle\n",
    "ted = Turtle()\n",
    "\n",
    "# to import everything\n",
    "\n",
    "from turtle import * \n",
    "forward(100)"
   ]
  },
  {
   "cell_type": "markdown",
   "metadata": {},
   "source": [
    "## Aliasing modules"
   ]
  },
  {
   "cell_type": "code",
   "execution_count": null,
   "metadata": {},
   "outputs": [],
   "source": [
    "import turtle as t\n",
    "import pandas as pd\n",
    "\n"
   ]
  },
  {
   "cell_type": "markdown",
   "metadata": {},
   "source": [
    "# Drawing a dashed line"
   ]
  },
  {
   "cell_type": "code",
   "execution_count": null,
   "metadata": {},
   "outputs": [],
   "source": [
    "dash = t.Turtle()"
   ]
  },
  {
   "cell_type": "code",
   "execution_count": null,
   "metadata": {},
   "outputs": [],
   "source": [
    "\n",
    "for _ in range(9):\n",
    "    dash.forward(10)\n",
    "    dash.penup()\n",
    "    dash.forward(10)\n",
    "    dash.pendown()"
   ]
  },
  {
   "cell_type": "markdown",
   "metadata": {},
   "source": [
    "# Drawing a pentagon"
   ]
  },
  {
   "cell_type": "code",
   "execution_count": null,
   "metadata": {},
   "outputs": [],
   "source": [
    "import turtle as t\n",
    "import random\n",
    "\n",
    "pen_dragon = t.Turtle()\n",
    "colors = ['royal blue','medium sea green','gold','orange red','plum','blue violet','indigo']\n",
    "\n",
    "\n",
    "def get_angle(sides):\n",
    "    angle = 360 / sides\n",
    "    return angle\n",
    "\n",
    "def draw_shape():\n",
    "    sides = int(input('How many sides does the shape have: '))  \n",
    "    for p in range(sides):\n",
    "        pen_dragon.color(random.choice(colors))\n",
    "        pen_dragon.forward(100)\n",
    "        pen_dragon.right(get_angle(sides))\n",
    "        \n",
    "ans = 'yes'\n",
    "while ans != 'no':\n",
    "    #user input\n",
    "    draw_shape()"
   ]
  },
  {
   "cell_type": "code",
   "execution_count": null,
   "metadata": {},
   "outputs": [],
   "source": [
    "# Teachers version\n",
    "import random\n",
    "colors = ['royal blue','medium sea green','gold','orange red','plum','blue violet','indigo']\n",
    "\n",
    "def draw_shapes(num_sides):\n",
    "    angle = 360 / num_sides\n",
    "    for _ in range(num_sides):\n",
    "        pen_dragon.forward(100)\n",
    "        pen_dragon.right(angle)\n",
    "\n",
    "for shape_side_n in range(3,11):\n",
    "    pen_dragon.color(random.choice(colors))\n",
    "    draw_shapes(shape_side_n)"
   ]
  },
  {
   "cell_type": "markdown",
   "metadata": {},
   "source": [
    "# Random Walk Challege"
   ]
  },
  {
   "cell_type": "code",
   "execution_count": null,
   "metadata": {},
   "outputs": [],
   "source": [
    "import random\n",
    "import turtle as t\n",
    "\n",
    "sc = t.Screen() \n",
    "  \n",
    "# setup the screen size \n",
    "sc.setup(400,400) \n",
    "\n",
    "colors = ['medium sea green','gold','orange red','plum']\n",
    "directions = ['left', 'right']\n",
    "moveing = ['forward','back']\n",
    "\n",
    "def choose_direction():\n",
    "    choice = random.choice(directions)\n",
    "    if choice == 'left':\n",
    "        return walker.left(90)\n",
    "    else:\n",
    "        return walker.right(90)\n",
    "    \n",
    "def choose_movement():\n",
    "    choice = random.choice(moveing)\n",
    "    if choice == 'back':\n",
    "        return walker.backward(30)\n",
    "    else:\n",
    "        return walker.forward(30)\n",
    "    \n",
    "\n",
    "walker = t.Turtle()\n",
    "walker.pensize(5)\n",
    "walker.speed(3)\n",
    "\n",
    "for p in range(1000):\n",
    "    walker.pencolor(random.choice(colors))\n",
    "    choose_movement()\n",
    "    choose_direction()\n",
    "\n"
   ]
  },
  {
   "cell_type": "markdown",
   "metadata": {},
   "source": [
    "## Teach's Version"
   ]
  },
  {
   "cell_type": "code",
   "execution_count": null,
   "metadata": {},
   "outputs": [],
   "source": [
    "import turtle as t\n",
    "import random\n",
    "\n",
    "ted = t.Turtle()\n",
    "\n",
    "########### Challenge 4 - Random Walk ########\n",
    "colours = [\"CornflowerBlue\", \"DarkOrchid\", \"IndianRed\", \"DeepSkyBlue\", \"LightSeaGreen\", \"wheat\", \"SlateGray\", \"SeaGreen\"]\n",
    "directions = [0, 90, 180, 270] #this is alot more variations compared to left or right\n",
    "ted.pensize(15)\n",
    "ted.speed(\"fastest\")\n",
    "\n",
    "for _ in range(200):\n",
    "    ted.color(random.choice(colours))\n",
    "    ted.forward(30)\n",
    "    ted.setheading(random.choice(directions))\n"
   ]
  },
  {
   "cell_type": "markdown",
   "metadata": {},
   "source": [
    "# Using Random Colors"
   ]
  },
  {
   "cell_type": "code",
   "execution_count": null,
   "metadata": {},
   "outputs": [],
   "source": [
    "# By using tuples to create variations of the RGB\n",
    "\n",
    "tuples = (1,3,8)\n",
    "print(tuples)"
   ]
  },
  {
   "cell_type": "code",
   "execution_count": null,
   "metadata": {},
   "outputs": [],
   "source": [
    "#accessing\n",
    "tuples[2]"
   ]
  },
  {
   "cell_type": "code",
   "execution_count": null,
   "metadata": {},
   "outputs": [],
   "source": [
    "#re-assigning \n",
    "tuples[2] = 10"
   ]
  },
  {
   "cell_type": "code",
   "execution_count": null,
   "metadata": {},
   "outputs": [],
   "source": [
    "#converting it into a list\n",
    "list[tuples]"
   ]
  },
  {
   "cell_type": "code",
   "execution_count": null,
   "metadata": {},
   "outputs": [],
   "source": [
    "import turtle as t\n",
    "import random\n",
    "\n",
    "ted = t.Turtle()\n",
    "t.colormode(255)\n",
    "\n",
    "def random_color():\n",
    "    r = random.randint(0,255)\n",
    "    g = random.randint(0,255)\n",
    "    b = random.randint(0,255)\n",
    "    rgb = r,g,b\n",
    "    rand_color = tuple(rgb)\n",
    "    return(rand_color)\n",
    "\n",
    "\n",
    "directions = [0, 90, 180, 270] #this is alot more variations compared to left or right\n",
    "ted.pensize(15)\n",
    "ted.speed(\"fastest\")\n",
    "\n",
    "for _ in range(200):\n",
    "    ted.color(random_color())\n",
    "    ted.forward(30)\n",
    "    ted.setheading(random.choice(directions))\n",
    "\n",
    "\n"
   ]
  },
  {
   "cell_type": "markdown",
   "metadata": {},
   "source": [
    "# Making a Spirograph"
   ]
  },
  {
   "cell_type": "code",
   "execution_count": 1,
   "metadata": {},
   "outputs": [],
   "source": [
    "#By drawing many circles \n",
    "\n",
    "\n",
    "leo = t.Turtle()\n",
    "r = 50\n",
    "leo.circle(r)"
   ]
  },
  {
   "cell_type": "code",
   "execution_count": 1,
   "metadata": {},
   "outputs": [],
   "source": [
    "import turtle as t \n",
    "import random\n",
    "\n",
    "leo = t.Turtle()\n",
    "r = 50\n",
    "\n",
    "for i in range(50):\n",
    "    leo.circle(r)\n",
    "    leo.setx((r*i)*-(1))\n",
    "    leo.sety((r*i)*-(1))\n",
    "    \n",
    "# This failed to go round, we should have used heading instead"
   ]
  },
  {
   "cell_type": "markdown",
   "metadata": {},
   "source": [
    "# Teachers version"
   ]
  },
  {
   "cell_type": "code",
   "execution_count": 1,
   "metadata": {},
   "outputs": [],
   "source": [
    "import turtle as t\n",
    "import random\n",
    "\n",
    "tim = t.Turtle()\n",
    "t.colormode(255)\n",
    "def random_color():\n",
    "    r = random.randint(0, 255)\n",
    "    g = random.randint(0, 255)\n",
    "    b = random.randint(0, 255)\n",
    "    color = (r, g, b)\n",
    "    return color\n",
    "\n",
    "########### Challenge 5 - Spirograph ########\n",
    "\n",
    "def draw_spirograph(size_of_gap):\n",
    "    for _ in range(int(360 / size_of_gap)):\n",
    "        tim.color(random_color())\n",
    "        tim.circle(100)\n",
    "        tim.setheading(tim.heading() + size_of_gap)\n",
    "\n",
    "draw_spirograph(5)\n",
    "\n",
    "\n"
   ]
  },
  {
   "cell_type": "markdown",
   "metadata": {},
   "source": [
    "# Final Challenge"
   ]
  },
  {
   "cell_type": "code",
   "execution_count": null,
   "metadata": {},
   "outputs": [],
   "source": []
  }
 ],
 "metadata": {
  "kernelspec": {
   "display_name": "Python 3",
   "language": "python",
   "name": "python3"
  },
  "language_info": {
   "codemirror_mode": {
    "name": "ipython",
    "version": 3
   },
   "file_extension": ".py",
   "mimetype": "text/x-python",
   "name": "python",
   "nbconvert_exporter": "python",
   "pygments_lexer": "ipython3",
   "version": "3.11.4"
  }
 },
 "nbformat": 4,
 "nbformat_minor": 2
}
