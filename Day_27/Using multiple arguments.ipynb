{
 "cells": [
  {
   "cell_type": "markdown",
   "metadata": {},
   "source": [
    "# Unlimited Position Arguments"
   ]
  },
  {
   "cell_type": "code",
   "execution_count": 1,
   "metadata": {},
   "outputs": [
    {
     "name": "stdout",
     "output_type": "stream",
     "text": [
      "7\n"
     ]
    }
   ],
   "source": [
    "def add(n1,n2):\n",
    "    return n1 + n2\n",
    "\n",
    "print(add(3,4))"
   ]
  },
  {
   "cell_type": "code",
   "execution_count": 2,
   "metadata": {},
   "outputs": [
    {
     "name": "stdout",
     "output_type": "stream",
     "text": [
      "3\n",
      "5\n",
      "7\n",
      "8\n"
     ]
    }
   ],
   "source": [
    "def add(*args):#can feed in any number of arguments \n",
    "    for n in args:\n",
    "        print(n)\n",
    "        \n",
    "add(3,5,7,8)"
   ]
  },
  {
   "cell_type": "code",
   "execution_count": 7,
   "metadata": {},
   "outputs": [
    {
     "data": {
      "text/plain": [
       "23"
      ]
     },
     "execution_count": 7,
     "metadata": {},
     "output_type": "execute_result"
    }
   ],
   "source": [
    "def add(*args): # My version\n",
    "    out  = 0\n",
    "    for n in args:\n",
    "        out = out + n \n",
    "    print(out)\n",
    "    \n",
    "#Teacher version \n",
    "def add(*args):\n",
    "    sum = 0\n",
    "    for n in args:\n",
    "        sum += n\n",
    "    return sum\n",
    "        \n",
    "add(3,5,7,8)"
   ]
  },
  {
   "cell_type": "markdown",
   "metadata": {},
   "source": [
    "# Multiple KeyWord Arguements "
   ]
  },
  {
   "cell_type": "code",
   "execution_count": 9,
   "metadata": {},
   "outputs": [
    {
     "name": "stdout",
     "output_type": "stream",
     "text": [
      "{'add': 3, 'multiply': 5}\n",
      "add  +  3\n",
      "multiply  +  5\n"
     ]
    }
   ],
   "source": [
    "def calculate(**kwargs):\n",
    "    print(kwargs)# Prints out a dictionary \n",
    "    for key, value in kwargs.items():\n",
    "        print(key ,' + ', value)\n",
    "    \n",
    "calculate(add=3, multiply = 5)"
   ]
  },
  {
   "cell_type": "markdown",
   "metadata": {},
   "source": [
    "Using it"
   ]
  },
  {
   "cell_type": "code",
   "execution_count": 12,
   "metadata": {},
   "outputs": [
    {
     "name": "stdout",
     "output_type": "stream",
     "text": [
      "{'add': 3, 'multiply': 7}\n",
      "35\n"
     ]
    }
   ],
   "source": [
    "def calculate(n, **kwargs):\n",
    "    print(kwargs)\n",
    "    n += kwargs['add']\n",
    "    n *= kwargs['multiply']\n",
    "    print(n)\n",
    "    #we did (2 + 3) * 7\n",
    "    \n",
    "calculate(2, add = 3, multiply=7)"
   ]
  },
  {
   "cell_type": "code",
   "execution_count": 8,
   "metadata": {},
   "outputs": [],
   "source": [
    "class Car:\n",
    "    \n",
    "    def __init__(self, **kwargs):\n",
    "        self.make = kwargs['make']\n",
    "        self.model = kwargs['model']\n",
    "        #For optional ones\n",
    "        self.make_year = kwargs.get('make_year')#will retun none if value is empty\n",
    "        self.color = kwargs.get('color')\n",
    "        \n",
    "        \n",
    "my_car = Car(make = 'Bugattii',model = 'That new one', color = 'black')\n",
    "my_car.make_year"
   ]
  },
  {
   "cell_type": "code",
   "execution_count": 10,
   "metadata": {},
   "outputs": [
    {
     "name": "stdout",
     "output_type": "stream",
     "text": [
      "(4, 7, 7, 8)\n",
      "{'add': 3, 'multiply': 7}\n"
     ]
    }
   ],
   "source": [
    "def calculate(n,*args, **kwargs):\n",
    "    print(args)\n",
    "    n += kwargs['add']\n",
    "    n *= kwargs['multiply']\n",
    "    print(kwargs)\n",
    "    #we did (2 + 3) * 7\n",
    "    \n",
    "calculate(2, 4,7,7,8,add = 3, multiply=7)"
   ]
  },
  {
   "cell_type": "code",
   "execution_count": null,
   "metadata": {},
   "outputs": [],
   "source": []
  }
 ],
 "metadata": {
  "kernelspec": {
   "display_name": "Python 3",
   "language": "python",
   "name": "python3"
  },
  "language_info": {
   "codemirror_mode": {
    "name": "ipython",
    "version": 3
   },
   "file_extension": ".py",
   "mimetype": "text/x-python",
   "name": "python",
   "nbconvert_exporter": "python",
   "pygments_lexer": "ipython3",
   "version": "3.11.4"
  }
 },
 "nbformat": 4,
 "nbformat_minor": 2
}
