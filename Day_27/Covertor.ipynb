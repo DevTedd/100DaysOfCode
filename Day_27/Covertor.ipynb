{
 "cells": [
  {
   "cell_type": "markdown",
   "metadata": {},
   "source": [
    "# Mile to Kilometer Convertor GUI"
   ]
  },
  {
   "cell_type": "code",
   "execution_count": 1,
   "metadata": {},
   "outputs": [],
   "source": [
    "#Importing libraries \n",
    "import turtle\n",
    "from tkinter import *"
   ]
  },
  {
   "cell_type": "markdown",
   "metadata": {},
   "source": [
    "Well use a grid setup to organize all our widgets. Well just follow what the teach does"
   ]
  },
  {
   "cell_type": "code",
   "execution_count": 2,
   "metadata": {},
   "outputs": [],
   "source": [
    "def mile_to_km():\n",
    "    result_label.config(text=0)\n",
    "    mile = float(value_input.get())\n",
    "    km = mile * 1.609\n",
    "    result_label.config(text=f\"{km}\")\n",
    "    \n",
    "def km_to_mile():\n",
    "    result_label.config(text=0)\n",
    "    km = float(value_input.get())\n",
    "    mile = km / 1.609\n",
    "    result_label.config(text=f\"{mile}\")"
   ]
  },
  {
   "cell_type": "code",
   "execution_count": 3,
   "metadata": {},
   "outputs": [
    {
     "name": "stderr",
     "output_type": "stream",
     "text": [
      "Exception in Tkinter callback\n",
      "Traceback (most recent call last):\n",
      "  File \"c:\\Users\\tkmwangi\\AppData\\Local\\Programs\\Python\\Python311\\Lib\\tkinter\\__init__.py\", line 1948, in __call__\n",
      "    return self.func(*args)\n",
      "           ^^^^^^^^^^^^^^^^\n",
      "  File \"C:\\Users\\tkmwangi\\AppData\\Local\\Temp\\ipykernel_6028\\1051634154.py\", line 3, in mile_to_km\n",
      "    mile = float(value_input.get())\n",
      "           ^^^^^^^^^^^^^^^^^^^^^^^^\n",
      "ValueError: could not convert string to float: ''\n"
     ]
    }
   ],
   "source": [
    "#Actual run\n",
    "window = Tk()\n",
    "window.title('Mile & KM Convertor!! Who would ever need such a thing!')\n",
    "window.config(padx=20,pady=20)\n",
    "\n",
    "\n",
    "value_input = Entry(width=7)\n",
    "value_input.grid(column=1,row=0)\n",
    "\n",
    "valueInput_label = Label(text='Miles')\n",
    "valueInput_label.grid(column=2,row=0)\n",
    "\n",
    "is_equal_label = Label(text=' is equal to ')\n",
    "is_equal_label.grid(column=0,row=1)\n",
    "\n",
    "result_label  = Label(text= '0')\n",
    "result_label.grid(column=1,row=1)\n",
    "\n",
    "output_label = Label(text='Kilometers ')\n",
    "output_label.grid(column=2,row=1)\n",
    "\n",
    "calculate_button = Button(text='Covert to Km', command=mile_to_km)\n",
    "calculate_button.grid(column=1,row=2)\n",
    "\n",
    "calculate_button_2 = Button(text='Covert to Miles', command=mile_to_km)\n",
    "calculate_button_2.grid(column=2,row=2)\n",
    "\n",
    "#Converting function \n",
    "window.mainloop()"
   ]
  }
 ],
 "metadata": {
  "kernelspec": {
   "display_name": "Python 3",
   "language": "python",
   "name": "python3"
  },
  "language_info": {
   "codemirror_mode": {
    "name": "ipython",
    "version": 3
   },
   "file_extension": ".py",
   "mimetype": "text/x-python",
   "name": "python",
   "nbconvert_exporter": "python",
   "pygments_lexer": "ipython3",
   "version": "3.11.4"
  }
 },
 "nbformat": 4,
 "nbformat_minor": 2
}
