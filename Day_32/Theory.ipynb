{
 "cells": [
  {
   "cell_type": "markdown",
   "metadata": {},
   "source": [
    "# Automating Email sending using the Google SMTP Port\n",
    "\n",
    "1. A pre-bundled module in python\n",
    "2. Uses datetime to track dates\n",
    "\n",
    "\n",
    "### Make sure you've got the correct smtp address for your email provider:\n",
    "\n",
    "* Gmail: smtp.gmail.com\n",
    "\n",
    "* Hotmail: smtp.live.com\n",
    "\n",
    "* Outlook: outlook.office365.com\n",
    "\n",
    "* Yahoo: smtp.mail.yahoo.com\n",
    "\n",
    "If you use another email provider, just Google for your email provider e.g. \"Gmail SMTP address\"\n",
    "\n",
    "Password : fjne bveu tbtr lwjm \n",
    "\n"
   ]
  },
  {
   "cell_type": "markdown",
   "metadata": {},
   "source": [
    "By default smtplib.SMTP uses port 25. This used to be the standard SMTP port, but because of abuse in the past most servers nowadays have blocked this port to external traffic. There are still some that do allow it; Hotmail, Live, etc. Port 25 is still used for traffic between servers, but many providers have switched to using port 587 for external traffic. If in doubt, search the internet for \"smtp server settings\" for your provider.\n",
    "\n",
    "Add a port number by changing your code to this:\n",
    "\n",
    "smtplib.SMTP(\"smtp.gmail.com\", port=587) "
   ]
  },
  {
   "cell_type": "code",
   "execution_count": null,
   "metadata": {},
   "outputs": [],
   "source": []
  },
  {
   "cell_type": "code",
   "execution_count": null,
   "metadata": {},
   "outputs": [],
   "source": []
  }
 ],
 "metadata": {
  "language_info": {
   "name": "python"
  }
 },
 "nbformat": 4,
 "nbformat_minor": 2
}
