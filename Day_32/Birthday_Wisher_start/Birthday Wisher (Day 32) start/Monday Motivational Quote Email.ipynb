{
 "cells": [
  {
   "cell_type": "markdown",
   "metadata": {},
   "source": [
    "# The Monday Motivational Quote Email "
   ]
  },
  {
   "cell_type": "code",
   "execution_count": 6,
   "metadata": {},
   "outputs": [],
   "source": [
    "import smtplib\n",
    "import datetime as dt\n",
    "import random\n",
    "\n",
    "\n",
    "my_email = \"senderbirthday@gmail.com\"\n",
    "my_password =\"fjne bveu tbtr lwjm\"\n",
    "that_email = 'tedrecieve@yahoo.com'\n",
    "\n",
    "\n",
    "\n",
    "now = dt.datetime.now()\n",
    "weekday = now.weekday()\n",
    "if weekday == 2:#set to wenesday just for testing\n",
    "    with open('Birthday_Wisher_start\\Birthday Wisher (Day 32) start\\quotes.txt') as quote_file:\n",
    "        all_quotes = quote_file.readlines()\n",
    "        quote = random.choice(all_quotes)\n",
    "    #print(quote)\n",
    "    \n",
    "    with smtplib.SMTP(\"smtp.gmail.com\",port=587) as connection:\n",
    "        connection.starttls()\n",
    "        connection.login(my_email,my_password)\n",
    "        connection.sendmail(from_addr=my_email, to_addrs=that_email,msg=f\"Subject: Monday Motivation\\n\\n {quote}\")\n",
    "        "
   ]
  },
  {
   "cell_type": "code",
   "execution_count": 7,
   "metadata": {},
   "outputs": [
    {
     "name": "stdout",
     "output_type": "stream",
     "text": [
      "2\n"
     ]
    }
   ],
   "source": [
    "now = dt.datetime.now()\n",
    "weekday = now.weekday()\n",
    "print(weekday)"
   ]
  }
 ],
 "metadata": {
  "kernelspec": {
   "display_name": "Python 3",
   "language": "python",
   "name": "python3"
  },
  "language_info": {
   "codemirror_mode": {
    "name": "ipython",
    "version": 3
   },
   "file_extension": ".py",
   "mimetype": "text/x-python",
   "name": "python",
   "nbconvert_exporter": "python",
   "pygments_lexer": "ipython3",
   "version": "3.11.4"
  }
 },
 "nbformat": 4,
 "nbformat_minor": 2
}
