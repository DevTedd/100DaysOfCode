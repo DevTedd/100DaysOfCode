{
 "cells": [
  {
   "cell_type": "markdown",
   "metadata": {},
   "source": [
    "# Namespaces"
   ]
  },
  {
   "cell_type": "code",
   "execution_count": 7,
   "metadata": {},
   "outputs": [
    {
     "name": "stdout",
     "output_type": "stream",
     "text": [
      "enemies inside function 2\n",
      "enemies outside function 1\n",
      "2\n",
      "10\n"
     ]
    },
    {
     "ename": "NameError",
     "evalue": "name 'portion_strenght' is not defined",
     "output_type": "error",
     "traceback": [
      "\u001b[1;31m---------------------------------------------------------------------------\u001b[0m",
      "\u001b[1;31mNameError\u001b[0m                                 Traceback (most recent call last)",
      "Cell \u001b[1;32mIn[7], line 21\u001b[0m\n\u001b[0;32m     19\u001b[0m     \u001b[38;5;28mprint\u001b[39m(player_health)\n\u001b[0;32m     20\u001b[0m drink_potion()\n\u001b[1;32m---> 21\u001b[0m \u001b[38;5;28mprint\u001b[39m(\u001b[43mportion_strenght\u001b[49m)\n\u001b[0;32m     23\u001b[0m \u001b[38;5;66;03m# Name errors are for indication scope - local and global variables\u001b[39;00m\n",
      "\u001b[1;31mNameError\u001b[0m: name 'portion_strenght' is not defined"
     ]
    }
   ],
   "source": [
    "enemies = 1\n",
    "\n",
    "def increase_enemies():\n",
    "    enemies = 2\n",
    "    print(f'enemies inside function {enemies}')\n",
    "    \n",
    "increase_enemies()\n",
    "print(f'enemies outside function {enemies}')\n",
    "\n",
    "\n",
    "\n",
    "# Global Scope\n",
    "player_health = 10\n",
    "\n",
    "# Local Scope\n",
    "def drink_potion():\n",
    "    potion_strength = 2\n",
    "    print(potion_strength)\n",
    "    print(player_health)\n",
    "drink_potion()\n",
    "print(portion_strenght)\n",
    "\n",
    "# Name errors are for indication scope - local and global variables"
   ]
  },
  {
   "cell_type": "code",
   "execution_count": null,
   "metadata": {},
   "outputs": [],
   "source": []
  }
 ],
 "metadata": {
  "kernelspec": {
   "display_name": "Python 3",
   "language": "python",
   "name": "python3"
  },
  "language_info": {
   "codemirror_mode": {
    "name": "ipython",
    "version": 3
   },
   "file_extension": ".py",
   "mimetype": "text/x-python",
   "name": "python",
   "nbconvert_exporter": "python",
   "pygments_lexer": "ipython3",
   "version": "3.11.4"
  }
 },
 "nbformat": 4,
 "nbformat_minor": 2
}
