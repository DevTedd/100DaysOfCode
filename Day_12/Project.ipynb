{
 "cells": [
  {
   "cell_type": "markdown",
   "metadata": {},
   "source": [
    "# Number Guessing Game"
   ]
  },
  {
   "cell_type": "code",
   "execution_count": 2,
   "metadata": {},
   "outputs": [
    {
     "name": "stdout",
     "output_type": "stream",
     "text": [
      "\n",
      "  / _ \\_   _  ___  ___ ___  /__   \\ |__   ___    /\\ \\ \\_   _ _ __ ___ | |__   ___ _ __ \n",
      " / /_\\/ | | |/ _ \\/ __/ __|   / /\\/ '_ \\ / _ \\  /  \\/ / | | | '_ ` _ \\| '_ \\ / _ \\ '__|\n",
      "/ /_\\| |_| |  __/\\__ \\__ \\  / /  | | | |  __/ / /\\  /| |_| | | | | | | |_) |  __/ |   \n",
      "\\____/ \\__,_|\\___||___/___/  \\/   |_| |_|\\___| \\_\\ \\/  \\__,_|_| |_| |_|_.__/ \\___|_|  \n",
      "\n",
      "Welcome to the Guessing Game!\n",
      "I'm thinking of a number between 1 and 100.\n",
      "Incorrect input - Try Again\n"
     ]
    },
    {
     "ename": "ValueError",
     "evalue": "invalid literal for int() with base 10: ''",
     "output_type": "error",
     "traceback": [
      "\u001b[1;31m---------------------------------------------------------------------------\u001b[0m",
      "\u001b[1;31mValueError\u001b[0m                                Traceback (most recent call last)",
      "Cell \u001b[1;32mIn[2], line 61\u001b[0m\n\u001b[0;32m     58\u001b[0m         \u001b[38;5;28;01melse\u001b[39;00m:\n\u001b[0;32m     59\u001b[0m             \u001b[38;5;28mprint\u001b[39m(\u001b[38;5;124m'\u001b[39m\u001b[38;5;124mThank you for playing. Goodbye\u001b[39m\u001b[38;5;124m'\u001b[39m) \n\u001b[1;32m---> 61\u001b[0m \u001b[43mmain\u001b[49m\u001b[43m(\u001b[49m\u001b[43m)\u001b[49m\n",
      "Cell \u001b[1;32mIn[2], line 15\u001b[0m, in \u001b[0;36mmain\u001b[1;34m()\u001b[0m\n\u001b[0;32m     13\u001b[0m select_diff(difficulty)\n\u001b[0;32m     14\u001b[0m create_random_num()\n\u001b[1;32m---> 15\u001b[0m \u001b[43muser_selection\u001b[49m\u001b[43m(\u001b[49m\u001b[43m)\u001b[49m\n\u001b[0;32m     16\u001b[0m \u001b[38;5;66;03m#print(f'Print the number selected is : {number}')\u001b[39;00m\n\u001b[0;32m     17\u001b[0m \u001b[38;5;28mprint\u001b[39m(\u001b[38;5;124mf\u001b[39m\u001b[38;5;124m'\u001b[39m\u001b[38;5;124mYou have \u001b[39m\u001b[38;5;132;01m{\u001b[39;00mattempts\u001b[38;5;132;01m}\u001b[39;00m\u001b[38;5;124m attempts to guess the number\u001b[39m\u001b[38;5;124m'\u001b[39m)\n",
      "Cell \u001b[1;32mIn[2], line 39\u001b[0m, in \u001b[0;36muser_selection\u001b[1;34m()\u001b[0m\n\u001b[0;32m     37\u001b[0m user_guess \u001b[38;5;241m=\u001b[39m \u001b[38;5;241m0\u001b[39m\n\u001b[0;32m     38\u001b[0m \u001b[38;5;28;01mglobal\u001b[39;00m attempts\n\u001b[1;32m---> 39\u001b[0m user_guess \u001b[38;5;241m=\u001b[39m \u001b[38;5;28;43mint\u001b[39;49m\u001b[43m(\u001b[49m\u001b[38;5;28;43minput\u001b[39;49m\u001b[43m(\u001b[49m\u001b[38;5;124;43m'\u001b[39;49m\u001b[38;5;124;43mEnter your guess: \u001b[39;49m\u001b[38;5;124;43m'\u001b[39;49m\u001b[43m)\u001b[49m\u001b[43m)\u001b[49m\n\u001b[0;32m     40\u001b[0m attempts \u001b[38;5;241m-\u001b[39m\u001b[38;5;241m=\u001b[39m \u001b[38;5;241m1\u001b[39m\n\u001b[0;32m     41\u001b[0m \u001b[38;5;28;01mwhile\u001b[39;00m attempts \u001b[38;5;241m>\u001b[39m \u001b[38;5;241m0\u001b[39m:\n",
      "\u001b[1;31mValueError\u001b[0m: invalid literal for int() with base 10: ''"
     ]
    }
   ],
   "source": [
    "#Imports\n",
    "import random\n",
    "from art import logo\n",
    "attempts = 8\n",
    "number = 0\n",
    "\n",
    "def main():\n",
    "    print(logo)\n",
    "    print('Welcome to the Guessing Game!')\n",
    "    print(\"I'm thinking of a number between 1 and 100.\")\n",
    "    difficulty = input('Choose a difficulty. Type \"easy\" or \"hard\":')\n",
    "    #Global Variables \n",
    "    select_diff(difficulty)\n",
    "    create_random_num()\n",
    "    user_selection()\n",
    "    #print(f'Print the number selected is : {number}')\n",
    "    print(f'You have {attempts} attempts to guess the number')\n",
    "    \n",
    "\n",
    "#Choosing difficulty\n",
    "def select_diff(dif):\n",
    "    if dif == 'easy':\n",
    "        return \n",
    "    elif dif == 'hard':\n",
    "        global attempts\n",
    "        attempts += 2\n",
    "        return\n",
    "    else:\n",
    "        print('Incorrect input - Try Again')\n",
    "        \n",
    "def create_random_num():\n",
    "    global number\n",
    "    number = random.randint(1, 100)\n",
    "    return number\n",
    "\n",
    "def user_selection():\n",
    "    user_guess = 0\n",
    "    global attempts\n",
    "    user_guess = int(input('Enter your guess: '))\n",
    "    attempts -= 1\n",
    "    while attempts > 0:\n",
    "        if user_guess == number:\n",
    "            print('Correct!!! You have guessed correctly')\n",
    "            quit()\n",
    "        elif user_guess > number:\n",
    "            print('So close, you selected a number thats too large. Try again')\n",
    "            user_selection()\n",
    "        elif user_guess < number:\n",
    "            print('So close, you selected a number thats too small. Try again')\n",
    "            user_selection()\n",
    "        else:\n",
    "            print(\"Invalid input, try again\")\n",
    "            user_selection\n",
    "        print('You\"ve run out of attempts to play. The game is over')\n",
    "        trial = input(\"Would you want to play again? Y or N\")\n",
    "        if trial == \"Y\":\n",
    "            main()  \n",
    "        else:\n",
    "            print('Thank you for playing. Goodbye') \n",
    "            \n",
    "main()\n"
   ]
  },
  {
   "cell_type": "code",
   "execution_count": null,
   "metadata": {},
   "outputs": [],
   "source": []
  }
 ],
 "metadata": {
  "kernelspec": {
   "display_name": "Python 3",
   "language": "python",
   "name": "python3"
  },
  "language_info": {
   "codemirror_mode": {
    "name": "ipython",
    "version": 3
   },
   "file_extension": ".py",
   "mimetype": "text/x-python",
   "name": "python",
   "nbconvert_exporter": "python",
   "pygments_lexer": "ipython3",
   "version": "3.11.4"
  }
 },
 "nbformat": 4,
 "nbformat_minor": 2
}
