{
 "cells": [
  {
   "cell_type": "code",
   "execution_count": 7,
   "metadata": {},
   "outputs": [],
   "source": [
    "from tkinter import *\n",
    "import requests\n",
    "\n",
    "\n",
    "def get_quote():\n",
    "    response = requests.get(\"https://api.kanye.rest\")\n",
    "    response.raise_for_status()\n",
    "    data = response.json()\n",
    "    quote = data[\"quote\"]\n",
    "    canvas.itemconfig(quote_text, text=quote)\n",
    "window = Tk()\n",
    "window.title(\"Kanye Says...\")\n",
    "window.config(padx=50, pady=50)\n",
    "\n",
    "canvas = Canvas(width=300, height=414)\n",
    "background_img = PhotoImage(file=\"C:/Users/bella/OneDrive/Documents/GitHub/Udemy/100DaysOfCode/Day_34_API's/Solution+kanye-quotes-end/background.png\")\n",
    "canvas.create_image(150, 207, image=background_img)\n",
    "quote_text = canvas.create_text(150, 207, text=\"Kanye Quote Goes HERE\", width=250, font=(\"Arial\", 30, \"bold\"), fill=\"white\")\n",
    "canvas.grid(row=0, column=0)\n",
    "\n",
    "kanye_img = PhotoImage(file=\"C:/Users/bella/OneDrive/Documents/GitHub/Udemy/100DaysOfCode/Day_34_API's/Solution+kanye-quotes-end/kanye.png\")\n",
    "kanye_button = Button(image=kanye_img, highlightthickness=0, command=get_quote)\n",
    "kanye_button.grid(row=1, column=0)\n",
    "window.mainloop()"
   ]
  }
 ],
 "metadata": {
  "kernelspec": {
   "display_name": "Python 3",
   "language": "python",
   "name": "python3"
  },
  "language_info": {
   "codemirror_mode": {
    "name": "ipython",
    "version": 3
   },
   "file_extension": ".py",
   "mimetype": "text/x-python",
   "name": "python",
   "nbconvert_exporter": "python",
   "pygments_lexer": "ipython3",
   "version": "3.12.0"
  }
 },
 "nbformat": 4,
 "nbformat_minor": 2
}
