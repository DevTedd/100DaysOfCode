{
 "cells": [
  {
   "cell_type": "code",
   "execution_count": 3,
   "metadata": {},
   "outputs": [
    {
     "name": "stdout",
     "output_type": "stream",
     "text": [
      "<Response [200]>\n"
     ]
    }
   ],
   "source": [
    "#requesting data for the ISS positioning\n",
    "import requests\n",
    "\n",
    "response= requests.get(url='http://api.open-notify.org/iss-now.json')\n",
    "print(response)\n"
   ]
  },
  {
   "cell_type": "markdown",
   "metadata": {},
   "source": [
    "## What is a response code, ie 404 or 403\n",
    "1. 100 hold on loading\n",
    "2. 200 request went ok\n",
    "3. 300 meand th permission doesnt exsist\n",
    "4. 400 there is a mistake with the request\n",
    "5. 500 there is an issue with the client server"
   ]
  },
  {
   "cell_type": "code",
   "execution_count": 4,
   "metadata": {},
   "outputs": [
    {
     "data": {
      "text/plain": [
       "200"
      ]
     },
     "execution_count": 4,
     "metadata": {},
     "output_type": "execute_result"
    }
   ],
   "source": [
    "response.status_code"
   ]
  },
  {
   "cell_type": "markdown",
   "metadata": {},
   "source": [
    "## Dealing with status codes"
   ]
  },
  {
   "cell_type": "code",
   "execution_count": 5,
   "metadata": {},
   "outputs": [],
   "source": [
    "response.raise_for_status()"
   ]
  },
  {
   "cell_type": "markdown",
   "metadata": {},
   "source": [
    "## Lets go into the data"
   ]
  },
  {
   "cell_type": "code",
   "execution_count": 6,
   "metadata": {},
   "outputs": [
    {
     "name": "stdout",
     "output_type": "stream",
     "text": [
      "{'iss_position': {'latitude': '46.5547', 'longitude': '-92.4282'}, 'message': 'success', 'timestamp': 1727214340}\n"
     ]
    }
   ],
   "source": [
    "data = response.json()\n",
    "print(data)"
   ]
  },
  {
   "cell_type": "code",
   "execution_count": 7,
   "metadata": {},
   "outputs": [
    {
     "data": {
      "text/plain": [
       "{'latitude': '46.5547', 'longitude': '-92.4282'}"
      ]
     },
     "execution_count": 7,
     "metadata": {},
     "output_type": "execute_result"
    }
   ],
   "source": [
    "#Getting specific values\n",
    "data = response.json()['iss_position']\n",
    "data"
   ]
  },
  {
   "cell_type": "code",
   "execution_count": 8,
   "metadata": {},
   "outputs": [
    {
     "name": "stdout",
     "output_type": "stream",
     "text": [
      "('-92.4282', '46.5547')\n"
     ]
    }
   ],
   "source": [
    "longitude = response.json()['iss_position']['longitude']\n",
    "latitiude = response.json()['iss_position']['latitude']\n",
    "iss_coordinate = (longitude,latitiude)\n",
    "print(iss_coordinate)"
   ]
  },
  {
   "cell_type": "code",
   "execution_count": 9,
   "metadata": {},
   "outputs": [
    {
     "name": "stdout",
     "output_type": "stream",
     "text": [
      "{'quote': 'All you have to be is yourself'}\n"
     ]
    }
   ],
   "source": [
    "response= requests.get(url='https://api.kanye.rest/')\n",
    "response.raise_for_status()\n",
    "data = response.json()\n",
    "print(data)"
   ]
  },
  {
   "cell_type": "markdown",
   "metadata": {},
   "source": [
    "# Lets try another use case, lets get Sunset times on demand"
   ]
  },
  {
   "cell_type": "code",
   "execution_count": 10,
   "metadata": {},
   "outputs": [
    {
     "name": "stdout",
     "output_type": "stream",
     "text": [
      "{'results': {'sunrise': '2024-09-24T03:20:23+00:00', 'sunset': '2024-09-24T15:29:18+00:00', 'solar_noon': '2024-09-24T09:24:51+00:00', 'day_length': 43735, 'civil_twilight_begin': '2024-09-24T03:00:47+00:00', 'civil_twilight_end': '2024-09-24T15:48:55+00:00', 'nautical_twilight_begin': '2024-09-24T02:36:46+00:00', 'nautical_twilight_end': '2024-09-24T16:12:55+00:00', 'astronomical_twilight_begin': '2024-09-24T02:12:46+00:00', 'astronomical_twilight_end': '2024-09-24T16:36:56+00:00'}, 'status': 'OK', 'tzid': 'UTC'}\n"
     ]
    },
    {
     "ename": "IndexError",
     "evalue": "list index out of range",
     "output_type": "error",
     "traceback": [
      "\u001b[1;31m---------------------------------------------------------------------------\u001b[0m",
      "\u001b[1;31mIndexError\u001b[0m                                Traceback (most recent call last)",
      "Cell \u001b[1;32mIn[10], line 25\u001b[0m\n\u001b[0;32m     21\u001b[0m sunset \u001b[38;5;241m=\u001b[39m data[\u001b[38;5;124m'\u001b[39m\u001b[38;5;124mresults\u001b[39m\u001b[38;5;124m'\u001b[39m][\u001b[38;5;124m'\u001b[39m\u001b[38;5;124msunset\u001b[39m\u001b[38;5;124m'\u001b[39m]\u001b[38;5;241m.\u001b[39msplit(\u001b[38;5;124m\"\u001b[39m\u001b[38;5;124mT\u001b[39m\u001b[38;5;124m\"\u001b[39m)[\u001b[38;5;241m1\u001b[39m]\u001b[38;5;241m.\u001b[39msplit(\u001b[38;5;124m\"\u001b[39m\u001b[38;5;124m:\u001b[39m\u001b[38;5;124m\"\u001b[39m)[\u001b[38;5;241m0\u001b[39m]\n\u001b[0;32m     23\u001b[0m time_now \u001b[38;5;241m=\u001b[39m datetime\u001b[38;5;241m.\u001b[39mnow()\n\u001b[1;32m---> 25\u001b[0m \u001b[38;5;28mprint\u001b[39m(\u001b[43msunrise\u001b[49m\u001b[38;5;241;43m.\u001b[39;49m\u001b[43msplit\u001b[49m\u001b[43m(\u001b[49m\u001b[38;5;124;43m\"\u001b[39;49m\u001b[38;5;124;43mT\u001b[39;49m\u001b[38;5;124;43m\"\u001b[39;49m\u001b[43m)\u001b[49m\u001b[43m[\u001b[49m\u001b[38;5;241;43m1\u001b[39;49m\u001b[43m]\u001b[49m\u001b[38;5;241m.\u001b[39msplit(\u001b[38;5;124m\"\u001b[39m\u001b[38;5;124m:\u001b[39m\u001b[38;5;124m\"\u001b[39m)[\u001b[38;5;241m0\u001b[39m])\n\u001b[0;32m     27\u001b[0m \u001b[38;5;28mprint\u001b[39m(time_now\u001b[38;5;241m.\u001b[39mhour)\n",
      "\u001b[1;31mIndexError\u001b[0m: list index out of range"
     ]
    }
   ],
   "source": [
    "import requests\n",
    "from datetime import datetime\n",
    "\n",
    "MY_LAT =-1.197760\n",
    "MY_LONG = 36.755219\n",
    "\n",
    "#Api Parameters\n",
    "parameters = {\n",
    "    \"lat\": MY_LAT,\n",
    "    \"lng\": MY_LONG,\n",
    "    \"formatted\" : 0\n",
    "}\n",
    "\n",
    "response = requests.get(url='https://api.sunrise-sunset.org/json', params = parameters)\n",
    "response.raise_for_status()\n",
    "data = response.json()\n",
    "print(data)\n",
    "\n",
    "#Sunrise data\n",
    "sunrise = data['results']['sunrise'].split(\"T\")[1].split(\":\")[0]\n",
    "sunset = data['results']['sunset'].split(\"T\")[1].split(\":\")[0]\n",
    "\n",
    "time_now = datetime.now()\n",
    "\n",
    "print(sunrise.split(\"T\")[1].split(\":\")[0])\n",
    "\n",
    "print(time_now.hour)"
   ]
  },
  {
   "cell_type": "markdown",
   "metadata": {},
   "source": []
  }
 ],
 "metadata": {
  "kernelspec": {
   "display_name": "Python 3",
   "language": "python",
   "name": "python3"
  },
  "language_info": {
   "codemirror_mode": {
    "name": "ipython",
    "version": 3
   },
   "file_extension": ".py",
   "mimetype": "text/x-python",
   "name": "python",
   "nbconvert_exporter": "python",
   "pygments_lexer": "ipython3",
   "version": "3.12.0"
  }
 },
 "nbformat": 4,
 "nbformat_minor": 2
}
